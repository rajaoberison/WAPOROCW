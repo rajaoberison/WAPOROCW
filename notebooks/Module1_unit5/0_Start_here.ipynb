{
 "cells": [
  {
   "cell_type": "markdown",
   "metadata": {},
   "source": [
    "# LisezMoi\n",
    "\n",
    "Les notebooks suivants sont des exemples d’utilisation de Python pour se connecter avec l’API de WaPOR:\n",
    "\n",
    "* [1 Lire un catalogue et une métadonnée](1_Read_catalog_metadata.ipynb)\n",
    "* [2 Obtenir le tableau des données disponibles](2_AvailableData_Table.ipynb)\n",
    "* [3 Obtenir une série chronologique pour un point](3_PixelTimeSeries.ipynb)\n",
    "* [4 Obtenir une série chronologique de statistiques d’une zone](4_AreaStatsTimeSeries.ipynb)\n",
    "* [5 Obtenir la découpe d’un raster ](5_CropRaster.ipynb)\n",
    "* [6 Obtenir une productivité de l’eau personnalisée](6_CustomWaterProductivity.ipynb)\n",
    "\n",
    "\n",
    "Pour créer une requête http dans Python, vous aurez besoin d’installer le package *requests*. Pour transformer une réponse du format JSON en un objet DataFrame (trame de données) *pandas* , vous devez installer les packages *pandas*  et *json*. \n",
    "\n",
    "* requests\n",
    "* pandas\n",
    "* json"
   ]
  },
  {
   "cell_type": "markdown",
   "metadata": {},
   "source": [
    "# Obtenir une clé d’API\n",
    "\n",
    "Dans certains notebooks, il vous est demandé de fournir votre clé d’API personnalisée de WaPOR. Vous pouvez en générer une à partir de la page de profile du portail de WaPOR:\n",
    "\n",
    "\n",
    "![fig1](../img/fig1_get_api_key.gif)"
   ]
  }
 ],
 "metadata": {
  "kernelspec": {
   "display_name": "Python 3",
   "language": "python",
   "name": "python3"
  },
  "language_info": {
   "codemirror_mode": {
    "name": "ipython",
    "version": 3
   },
   "file_extension": ".py",
   "mimetype": "text/x-python",
   "name": "python",
   "nbconvert_exporter": "python",
   "pygments_lexer": "ipython3",
   "version": "3.7.9"
  }
 },
 "nbformat": 4,
 "nbformat_minor": 2
}
