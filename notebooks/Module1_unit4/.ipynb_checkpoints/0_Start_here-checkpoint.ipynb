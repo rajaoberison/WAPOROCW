{
 "cells": [
  {
   "cell_type": "markdown",
   "metadata": {},
   "source": [
    "# LisezMoi\n",
    "\n",
    "Les notebooks suivants sont des exemples d’utilisation de Pyton pour télécharger, traiter et analyser les données de WaPOR :\n",
    "\n",
    "* [1 Télécharger les données de WaPOR en utilisant le package hkvwaporpy](1_Download_WaPOR_using_hkvwaporpy.ipynb)\n",
    "* [2 Prétraiter les données téléchargées de WaPOR](2_Preprocess_WaPOR_data.ipynb)\n",
    "* [3 Télécharger en block les données de WaPOR](3_Bulk_download_WaPOR_data.ipynb)\n",
    "* [4 Analyser les données de WaPOR](4_Analyse_WaPOR_data.ipynb)\n",
    "\n",
    "Il vous faudra installer les packages suivants pour exécuter les notebooks:\n",
    "\n",
    "* requests\n",
    "* hkvwaporpy\n",
    "* gdal\n",
    "* numpy\n",
    "* pandas\n",
    "* matplotlib\n",
    "* pyshp (shapefile)\n",
    "\n",
    "Vérifier que les packages ont été installés avec succès en exécutant la cellule code ci-dessous. "
   ]
  },
  {
   "cell_type": "code",
   "execution_count": 1,
   "metadata": {},
   "outputs": [],
   "source": [
    "import requests\n",
    "import hkvwaporpy\n",
    "import numpy\n",
    "import pandas\n",
    "import matplotlib\n",
    "import shapefile\n",
    "import gdal\n",
    "import osr\n",
    "import ogr"
   ]
  },
  {
   "cell_type": "markdown",
   "metadata": {},
   "source": [
    "Si la cellule code ne retourne aucune sortie, cela signifie que les packages ont été importés avec succès. Si un package n’est pas correctement installé, il affichera une erreur telle que la cellule code suivante. "
   ]
  },
  {
   "cell_type": "code",
   "execution_count": 2,
   "metadata": {},
   "outputs": [
    {
     "ename": "ModuleNotFoundError",
     "evalue": "No module named 'notinstalledpackage'",
     "output_type": "error",
     "traceback": [
      "\u001b[1;31m---------------------------------------------------------------------------\u001b[0m",
      "\u001b[1;31mModuleNotFoundError\u001b[0m                       Traceback (most recent call last)",
      "\u001b[1;32m<ipython-input-2-b13a000e1d07>\u001b[0m in \u001b[0;36m<module>\u001b[1;34m\u001b[0m\n\u001b[1;32m----> 1\u001b[1;33m \u001b[1;32mimport\u001b[0m \u001b[0mnotinstalledpackage\u001b[0m\u001b[1;33m\u001b[0m\u001b[1;33m\u001b[0m\u001b[0m\n\u001b[0m",
      "\u001b[1;31mModuleNotFoundError\u001b[0m: No module named 'notinstalledpackage'"
     ]
    }
   ],
   "source": [
    "import notinstalledpackage"
   ]
  },
  {
   "cell_type": "markdown",
   "metadata": {},
   "source": [
    "Dans ce cas, essayer [ces options pour installer le package](https://ocw.un-ihe.org/mod/book/view.php?id=7215&chapterid=824). \n",
    "\n",
    "### Remarques:\n",
    "- **hkvwaporpy** n’est pas disponible dans le répertoire Anaconda, il vous faudra utiliser des méthodes de gestion de packages PIP pour l’installer.\n",
    "- **osr** et **ogr** sont installés dès l’installation de  **gdal**."
   ]
  },
  {
   "cell_type": "markdown",
   "metadata": {},
   "source": [
    "# Obtenir une clé d’API\n",
    "\n",
    "Dans certains notebooks, il vous sera demandé de fournir votre clé d’API personnelle de WaPOR. Cette clé vous permet de vous connecter au serveur de WaPOR avec votre compte sans utiliser votre mot de passe. Vous pouvez générer une à partir de la page de profile dans le portail de WaPOR:\n",
    "\n",
    "![fig1](../img/fig1_get_api_key.gif)"
   ]
  }
 ],
 "metadata": {
  "kernelspec": {
   "display_name": "Python 3",
   "language": "python",
   "name": "python3"
  },
  "language_info": {
   "codemirror_mode": {
    "name": "ipython",
    "version": 3
   },
   "file_extension": ".py",
   "mimetype": "text/x-python",
   "name": "python",
   "nbconvert_exporter": "python",
   "pygments_lexer": "ipython3",
   "version": "3.7.9"
  }
 },
 "nbformat": 4,
 "nbformat_minor": 2
}
