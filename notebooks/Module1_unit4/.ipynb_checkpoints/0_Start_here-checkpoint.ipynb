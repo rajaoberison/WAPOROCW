{
 "cells": [
  {
   "cell_type": "markdown",
   "metadata": {},
   "source": [
    "<div dir=\"rtl\">\n",
    "    \n",
    "# يرجى القراءة \n",
    "\n",
    "الدفتر التالي هو مثال عن كيفية استخدام Python لتحميل، معالجة وتحليل WaPOR data:\n",
    "\n",
    "* [1 تحميل بيانات WaPOR باستخدام حزمة hkvwaporpy](1_Download_WaPOR_using_hkvwaporpy.ipynb)\n",
    "* [2 معالجة بيانات WaPOR المحملة](2_Preprocess_WaPOR_data.ipynb)\n",
    "* [3 معالجة بيانات WaPOR المحملة](3_Bulk_download_WaPOR_data.ipynb)\n",
    "* [4 تحليل بيانات WaPOR](4_Analyse_WaPOR_data.ipynb)\n",
    "\n",
    "تحتاج إلى تحميل الحزم التالية لبدء تشغيل الدفتر:\n",
    "\n",
    "* requests\n",
    "* hkvwaporpy\n",
    "* gdal\n",
    "* numpy\n",
    "* pandas\n",
    "* matplotlib\n",
    "* pyshp (shapefile)\n",
    "\n",
    "تفقد إن تم تحميل الحزم التالية من خلال بدء تشغيل الكود التالي.\n",
    "\n",
    "</div>"
   ]
  },
  {
   "cell_type": "code",
   "execution_count": 1,
   "metadata": {},
   "outputs": [],
   "source": [
    "import requests\n",
    "import hkvwaporpy\n",
    "import numpy\n",
    "import pandas\n",
    "import matplotlib\n",
    "import shapefile\n",
    "import gdal\n",
    "import osr\n",
    "import ogr"
   ]
  },
  {
   "cell_type": "markdown",
   "metadata": {},
   "source": [
    "<div dir=\"rtl\">\n",
    "إن لم تحصل في الخلية على أية مخرجات، هذا يعني أن الحزم قد تحملت بشكل صحيح. إن لم يتم التحميل بشكل صحيح، سوف يظهر الخطأ على شكل كود كالتالي\n",
    "</div>"
   ]
  },
  {
   "cell_type": "code",
   "execution_count": 2,
   "metadata": {},
   "outputs": [
    {
     "ename": "ModuleNotFoundError",
     "evalue": "No module named 'notinstalledpackage'",
     "output_type": "error",
     "traceback": [
      "\u001b[1;31m---------------------------------------------------------------------------\u001b[0m",
      "\u001b[1;31mModuleNotFoundError\u001b[0m                       Traceback (most recent call last)",
      "\u001b[1;32m<ipython-input-2-b13a000e1d07>\u001b[0m in \u001b[0;36m<module>\u001b[1;34m\u001b[0m\n\u001b[1;32m----> 1\u001b[1;33m \u001b[1;32mimport\u001b[0m \u001b[0mnotinstalledpackage\u001b[0m\u001b[1;33m\u001b[0m\u001b[1;33m\u001b[0m\u001b[0m\n\u001b[0m",
      "\u001b[1;31mModuleNotFoundError\u001b[0m: No module named 'notinstalledpackage'"
     ]
    }
   ],
   "source": [
    "import notinstalledpackage"
   ]
  },
  {
   "cell_type": "markdown",
   "metadata": {},
   "source": [
    "<div dir=\"rtl\">\n",
    "    \n",
    "[في هذه الحالة، يمكن تجربة الخيارات التالية لتحميل الحزم](https://ocw.un-ihe.org/mod/book/view.php?id=6539&chapterid=680) \n",
    "\n",
    "### ملاحظات:\n",
    "- **hkvwaporpy** غير متوفرة على Anaconda لذلك سوف تحتاج إلى استخدام طريقة مدير حزمة PIP للتثبيت.\n",
    "- تم الحصول على osr و **ogr** بمجرد تحميل **gdal** \n",
    "    \n",
    "</div>"
   ]
  },
  {
   "cell_type": "markdown",
   "metadata": {},
   "source": [
    "<div dir=\"rtl\">\n",
    "\n",
    "# الحصول على رمز API\n",
    "\n",
    "في بعض الدفاتر سوف تحتاج إلى رمز الAPI الخاص بك من WaPOR. وهو المفتاح الخاص بك لتتمكن من الجخول على مخدم WaPOR باستخدام حسابك وكلمة المرور الشخصية. يمكنك توليد الرمز من خلال بوابة WaPOR - profile page\n",
    "\n",
    "</div>\n",
    "\n",
    "![fig1](../img/fig1_get_api_key.gif)"
   ]
  },
  {
   "cell_type": "code",
   "execution_count": null,
   "metadata": {},
   "outputs": [],
   "source": []
  }
 ],
 "metadata": {
  "kernelspec": {
   "display_name": "Python 3",
   "language": "python",
   "name": "python3"
  },
  "language_info": {
   "codemirror_mode": {
    "name": "ipython",
    "version": 3
   },
   "file_extension": ".py",
   "mimetype": "text/x-python",
   "name": "python",
   "nbconvert_exporter": "python",
   "pygments_lexer": "ipython3",
   "version": "3.8.3"
  }
 },
 "nbformat": 4,
 "nbformat_minor": 2
}
