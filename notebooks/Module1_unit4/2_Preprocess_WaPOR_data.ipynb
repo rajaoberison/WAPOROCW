{
 "cells": [
  {
   "cell_type": "markdown",
   "metadata": {},
   "source": [
    "<div dir=\"rtl\">\n",
    "    \n",
    "# المعالجة المسبقة لبيانات WaPOR باستخدام بيثون\n",
    "\n",
    "</div>\n",
    "<div dir=\"rtl\">\n",
    "يحتوي هذا الدفتر على خطوات للمعالجة المسبقة لبيانات WaPOR\n",
    "</div>\n",
    "\n",
    "<div dir=\"rtl\">\n",
    "\n",
    "- [1. اقتصاص امتداد](#Step-1.-Crop-to-Extent)\n",
    "- [2. إعادة القياس باستخدام البيانات الوصفية](#Step-2.-Rescale-using-metadata)\n",
    "- [3. تجميع البيانات الشهرية](#Step-3.-Aggregate-monthly-data)\n",
    "- [4. تجميع البيانات في فترة](#Step-4.-Aggregate-data-in-a-period)\n",
    "- [5. التفاف البيانات النقطية](#Step-5.-Warp-raster-data)\n",
    "- [6. عمل مقطع إلى ملف الشكل cutline](#Step-6.-Clip-to-Shapefile-cutline)\n",
    "\n",
    "</div>\n",
    "\n",
    "<div dir=\"rtl\">\n",
    "في كل خطوة، ستجد أمثلة على أكواد وتمارين لتطبيق المثالفي كل خطوة، ستجد أمثلة على أكواد وتمارين لتطبيق المثال\n",
    "</div>\n",
    "<div dir=\"rtl\">\n",
    "أولاً، قم باستيراد مكتبات / حزم بحيث يمكن استخدام الوظائف من هذه المكتبات. \n",
    "</div>"
   ]
  },
  {
   "cell_type": "code",
   "execution_count": 1,
   "metadata": {},
   "outputs": [],
   "source": [
    "import os\n",
    "import shapefile\n",
    "import glob\n",
    "import gdal\n",
    "import osgeo\n",
    "import hkvwaporpy as hkv\n",
    "import osr\n",
    "import ogr\n",
    "import numpy as np\n",
    "from matplotlib import pyplot as plt\n",
    "import pandas as pd"
   ]
  },
  {
   "cell_type": "markdown",
   "metadata": {
    "slideshow": {
     "slide_type": "slide"
    }
   },
   "source": [
    "## Step 1. Crop to Extent\n",
    "<div dir=\"rtl\"> \n",
    "الخطوة 1. اقتصاص إلى مدى\n",
    "</div>\n",
    "<div dir=\"rtl\">\n",
    "    \n",
    "### مثال\n",
    "    \n",
    "</div>\n",
    "\n",
    "<div dir=\"rtl\">      \n",
    "لاقتصاص تعيين الخريطة النقطية إلى حد ما ، يلزم وجود ملف شكل أو إحداثيات المدى. على سبيل المثال ، تم إعداد ملف أشكال لحوض Awash في البيانات\n",
    "مجلد data. يوضح الكود أدناه كيفية الحصول على\n",
    "وجود حوض الاواش. أولاً ، اقرأ ملف bbox الخاص بملف الأشكال المحدد للمنطقة محل الاهتمام.    \n",
    "</div>\n",
    "\n",
    "[مجلد البيانات](data)"
   ]
  },
  {
   "cell_type": "code",
   "execution_count": 2,
   "metadata": {
    "slideshow": {
     "slide_type": "slide"
    }
   },
   "outputs": [
    {
     "data": {
      "text/plain": [
       "[37.95883206252312, 7.89534, 43.32093, 12.3873979377346]"
      ]
     },
     "execution_count": 2,
     "metadata": {},
     "output_type": "execute_result"
    }
   ],
   "source": [
    "tg_shp= r\".\\data\\Awash_shapefile.shp\"\n",
    "shape = shapefile.Reader(tg_shp)\n",
    "shape.bbox"
   ]
  },
  {
   "cell_type": "markdown",
   "metadata": {},
   "source": [
    "<div dir=\"rtl\">\n",
    "يعرض شكل shape.bbox إحداثيات المربع المنضم لملف الشكل وهي xmin (أدنى خط طول) و ymin (أدنى خط عرض) و xmax (أعلى خط طول) و ymax (أعلى خط عرض). سيمرر الكود أدناه هذه القيم الأربع إلى المتغيرات الأربعة ذات الصلة\n",
    "</div>"
   ]
  },
  {
   "cell_type": "code",
   "execution_count": 3,
   "metadata": {
    "slideshow": {
     "slide_type": "slide"
    }
   },
   "outputs": [
    {
     "data": {
      "text/plain": [
       "(37.95883206252312, 7.89534, 43.32093, 12.3873979377346)"
      ]
     },
     "execution_count": 3,
     "metadata": {},
     "output_type": "execute_result"
    }
   ],
   "source": [
    "extent=shape.bbox\n",
    "xmin,ymin,xmax,ymax=extent[0],extent[1],extent[2],extent[3]\n",
    "xmin,ymin,xmax,ymax"
   ]
  },
  {
   "cell_type": "markdown",
   "metadata": {},
   "source": [
    "<div dir=\"rtl\">    \n",
    "بعد ذلك ، سوف نحصل على قائمة بالملف النقطي الذي نحتاج إلى اقتصاصه. للحصول على قائمة بجميع معالجات الملفات في مجلد ، يمكننا استخدام وحدة glob على النحو التالي. يحتوي متغير معالج الملفات على مسار إلى أي ملف .tif نقطي في مجلد الإدخال ، حيث يتم استبدال الحرف * باسم الملف. طول قائمة input_fhs هو عدد الملفات في مجلد الإدخال. إذا تم تنزيل بيانات L1_PCP_E بنجاح من دفتر الملاحظات السابق  التمرين 1 ، يجب أن يكون عدد الملفات 365 عند تشغيل خلية الرمز.     \n",
    "</div>\n",
    "\n",
    "[ دفتر الملاحظات السابق  التمرين 1](1_Download_WaPOR_using_hkvwaporpy.ipynb)"
   ]
  },
  {
   "cell_type": "code",
   "execution_count": 4,
   "metadata": {},
   "outputs": [
    {
     "name": "stdout",
     "output_type": "stream",
     "text": [
      ".\\data\\L1_PCP_E\\*.tif\n",
      "Number of files: 365\n"
     ]
    }
   ],
   "source": [
    "input_folder=r'.\\data\\L1_PCP_E'\n",
    "filehandler=os.path.join(input_folder,'*.tif')\n",
    "input_fhs=sorted(glob.glob(filehandler))\n",
    "print(filehandler)\n",
    "print('عدد الملفات: {0}'.format(len(input_fhs)))"
   ]
  },
  {
   "cell_type": "markdown",
   "metadata": {},
   "source": [
    "<div dir=\"rtl\">\n",
    "يمكن استخدام وظيفة gdal.Translate لاقتصاص ملف نقطي بسرعة إلى حد معين. يوجد أدناه مثال لاقتصاص ملف نقطي في قائمة معالجات البيانات النقطية التي تم الحصول عليها. أولاً ، يتم تعريف معالجات ملفات الإدخال والإخراج.\n",
    "ثم يتم إنشاء كائن translate_options باستخدام إحداثيات النافذة للقص. على سبيل المثال ، الكود أدناه حدد مسار الملف الأول في قائمة input_fhs.\n",
    "</div>"
   ]
  },
  {
   "cell_type": "code",
   "execution_count": 5,
   "metadata": {},
   "outputs": [
    {
     "name": "stdout",
     "output_type": "stream",
     "text": [
      "in_fh: .\\data\\L1_PCP_E\\L1_PCP_090101.tif\n"
     ]
    }
   ],
   "source": [
    "output_folder=r'.\\data\\L1_PCP_E_cropped'\n",
    "if not os.path.exists(output_folder): #تأكد من انشاء ملف المخرجات\n",
    "    os.makedirs(output_folder) #إنشاء ملف المخرجات\n",
    "in_fh=input_fhs[0] #احصل على مسار أول ملف في قائمة الادخال fhs\n",
    "print('in_fh: '+in_fh) #اطبع مسار ملف الادخال"
   ]
  },
  {
   "cell_type": "markdown",
   "metadata": {},
   "source": [
    "<div dir=\"rtl\">\n",
    "بعد ذلك يتم تحديد المسار لملف المخرجات من خلال استخدام ملف الإدخال ومسار ملف المخرجات    \n",
    "</div>"
   ]
  },
  {
   "cell_type": "code",
   "execution_count": 6,
   "metadata": {},
   "outputs": [
    {
     "name": "stdout",
     "output_type": "stream",
     "text": [
      ".\\data\\L1_PCP_E_cropped\\L1_PCP_090101.tif\n"
     ]
    }
   ],
   "source": [
    "input_filename=os.path.split(in_fh)[-1] #احصل على اسم لملف الإدخال من خلال مسار الإدخال\n",
    "out_fh=os.path.join(output_folder,input_filename) #انشاء مسار للمخرجات ابتداء من اسم ملف المدخلات\n",
    "print(out_fh)"
   ]
  },
  {
   "cell_type": "markdown",
   "metadata": {},
   "source": [
    "<div dir=\"rtl\">\n",
    "يتم بعد ذلك استخدام الوظيفة gdal.Translate لاقتصاص الملف النقطي للإدخال وحفظه كملف الإخراج باستخدام نافذة إحداثيات المربع المحيط xmin ، ymax ، xmax ، ymin لملف الشكل من الخطوة السابقة. إذا انتهت وظيفة gdal.Translate بدون أخطاء ، فستحصل على كائن osgeo.gdal.Dataset (انظر أدناه) وسيتم إنشاء ملف نقطي جديد في مجلد الإخراج (data / L1_PCP_E_cropped)    \n",
    "</div>\n",
    "\n",
    "[مجلد الإخراج](data/L1_PCP_E_cropped)"
   ]
  },
  {
   "cell_type": "code",
   "execution_count": 7,
   "metadata": {},
   "outputs": [
    {
     "data": {
      "text/plain": [
       "<osgeo.gdal.Dataset; proxy of <Swig Object of type 'GDALDatasetShadow *' at 0x00000227C0021270> >"
      ]
     },
     "execution_count": 7,
     "metadata": {},
     "output_type": "execute_result"
    }
   ],
   "source": [
    "translate_options=gdal.TranslateOptions(format='GTiff',\n",
    "                                        outputType=osgeo.gdalconst.GDT_Float32,\n",
    "                                        projWin=[xmin,ymax,xmax,ymin]\n",
    "                                       )\n",
    "gdal.Translate(out_fh,in_fh,\n",
    "               options=translate_options)"
   ]
  },
  {
   "cell_type": "markdown",
   "metadata": {},
   "source": [
    "<div dir=\"rtl\">\n",
    "\n",
    "### التمرين 1 \n",
    "    \n",
    "</div>\n",
    "\n",
    "<div dir=\"rtl\">\n",
    "الآن ، استنادًا إلى مثال الكود ، اكتب الكود الخاص بك لاقتصاص جميع البيانات النقطية L1_PCP_E التي تم تنزيلها (مدى القارة) إلى حد ملف شكل حوض Awash.    \n",
    "</div>\n",
    "\n",
    "<div dir=\"rtl\">\n",
    "ملحوظة:\n",
    "  يمكنك استخدام حلقة for-loop للتكرار فوق معالجات الملفات في input_fhs كما هو محدد في الخطوات السابقة واستخدام دالة gdal.Translate لاقتصاصها.   \n",
    "</div>\n",
    "\n",
    "\n",
    "**for** file **in** list_of_files:\n",
    "    \n",
    "    functions to crop file #وظائف لاقتصاص الملف  "
   ]
  },
  {
   "cell_type": "code",
   "execution_count": 8,
   "metadata": {},
   "outputs": [],
   "source": [
    "for in_fh in input_fhs:\n",
    "    \"\"\"\n",
    "    اكتب الكود الخاص بك هنا\n",
    "    \"\"\"\n",
    "    "
   ]
  },
  {
   "cell_type": "markdown",
   "metadata": {},
   "source": [
    "## Step 2. Rescale using metadata\n",
    "\n",
    "<div dir=\"rtl\">\n",
    "الخطوة 2. إعادة القياس باستخدام البيانات الوصفية    \n",
    "</div>\n",
    "\n",
    "<div dir=\"rtl\">\n",
    "    \n",
    "### مثال\n",
    "    \n",
    "</div>\n",
    "\n",
    "<div dir=\"rtl\">\n",
    "تحتوي البيانات الوصفية لمجموعة البيانات على معلومات حول البيانات مثل ما يتم قياسه والوحدة التي يتم قياسها بها وما يتم تخزينه في القيمة. في كثير من الأحيان، يتم تخزين البيانات بتنسيق int عدد صحيح لتقليل مساحة تخزين الذاكرة. وبالتالي ، لتحليل البيانات كما لو كانت قيمًا مادية ، يجب إعادة قياس القيمة المخزنة، بمعنى آخر، ضربها في عامل التحويل أو المضاعف. على سبيل المثال، يتم استخدام الكود أدناه للحصول على مضاعف مجموعة بيانات WaPOR لهطول الأمطار L2_AETI_D ومجموعة بيانات صافي الإنتاج الأولي L2_NPP_D. لاحظ أن المضاعف يمكن أن يكون مختلفًا لمجموعة البيانات المختلفة.    \n",
    "</div>\n"
   ]
  },
  {
   "cell_type": "code",
   "execution_count": 10,
   "metadata": {},
   "outputs": [
    {
     "name": "stdout",
     "output_type": "stream",
     "text": [
      "L2_NPP_D multiplier: 0.001\n",
      "L2_AETI_D multiplier: 0.1\n"
     ]
    }
   ],
   "source": [
    "df=hkv.read_wapor.get_catalogus(version='2.0')\n",
    "\n",
    "ds_code='L2_NPP_D' \n",
    "cube_info=hkv.read_wapor.get_info_cube(cube_code=ds_code)\n",
    "multiplier = cube_info.loc['measures',ds_code].loc['multiplier'].iloc[0]\n",
    "print(ds_code+' multiplier: {0}'.format(multiplier))\n",
    "\n",
    "ds_code='L2_AETI_D' \n",
    "cube_info=hkv.read_wapor.get_info_cube(cube_code=ds_code)\n",
    "multiplier = cube_info.loc['measures',ds_code].loc['multiplier'].iloc[0]\n",
    "print(ds_code+' multiplier: {0}'.format(multiplier))"
   ]
  },
  {
   "cell_type": "markdown",
   "metadata": {},
   "source": [
    "<div dir=\"rtl\">\n",
    "لمضاعفة البيانات الأولية بمضاعف ، يمكنك فتح mapset كمصفوفة عددية والقيام بالحساب باستخدام هذه المصفوفة. تحتوي حزمة gdal على وظائف للعمل مع مجموعة الخرائط النقطية التي يمكن استخدامها للقيام بهذه المهمة. يحتوي الملف النقطي على العديد من الخصائص بما في ذلك الحجم وقيمة nodata والتحويل والمرجع المكاني والإسقاط وما إلى ذلك. يتم تخزين هذه المعلومات في مجموعة البيانات ويمكن قراءتها باستخدام حزمة gdal. يوجد أدناه الكود للحصول على هذه المعلومات من ملف GeoTIFF.    \n",
    "</div>"
   ]
  },
  {
   "cell_type": "code",
   "execution_count": 11,
   "metadata": {},
   "outputs": [
    {
     "name": "stdout",
     "output_type": "stream",
     "text": [
      ".\\data\\L2_AETI_D\\L2_AETI_0901.tif\n",
      "driver: <osgeo.gdal.Driver; proxy of <Swig Object of type 'GDALDriverShadow *' at 0x00000227C0021090> > \n",
      "NDV: -9999.0\n",
      "xsize: 5406\n",
      "ysize: 4529\n",
      "GeoT: (37.957837282836, 0.000992063492, 0.0, 12.3883928732, 0.0, -0.000992063492)\n",
      "Projection: GEOGCS[\"WGS 84\",\n",
      "    DATUM[\"WGS_1984\",\n",
      "        SPHEROID[\"WGS 84\",6378137,298.257223563,\n",
      "            AUTHORITY[\"EPSG\",\"7030\"]],\n",
      "        AUTHORITY[\"EPSG\",\"6326\"]],\n",
      "    PRIMEM[\"Greenwich\",0],\n",
      "    UNIT[\"degree\",0.0174532925199433],\n",
      "    AUTHORITY[\"EPSG\",\"4326\"]]\n"
     ]
    }
   ],
   "source": [
    "input_folder=r'.\\data\\L2_AETI_D'\n",
    "input_fhs=sorted(glob.glob(input_folder+'\\*.tif'))\n",
    "\n",
    "in_fh=input_fhs[0]\n",
    "print(in_fh)\n",
    "\n",
    "DataSet = gdal.Open(in_fh, gdal.GA_ReadOnly)\n",
    "\n",
    "Type = DataSet.GetDriver().ShortName #GDAL driver\n",
    "bandnumber=1 \n",
    "Subdataset = DataSet.GetRasterBand(bandnumber) # احصل على مجموعة البيانات الفرعية للنطاق 1\n",
    "NDV = Subdataset.GetNoDataValue() # لا توجد قيمة بيانات\n",
    "xsize = DataSet.RasterXSize # عدد الأعمدة في خطوط المسح\n",
    "ysize = DataSet.RasterYSize # عدد الصفوف في خطوط المسح\n",
    "GeoT = DataSet.GetGeoTransform() # التحويل الجغرافي (تنسيق وحدات بكسل الزاوية)\n",
    "Projection = osr.SpatialReference() # نظام الإسناد المكاني للخطوط النقطية\n",
    "Projection.ImportFromWkt(DataSet.GetProjectionRef())\n",
    "driver = gdal.GetDriverByName(Type)\n",
    "\n",
    "print('driver: {0} \\nNDV: {1}\\nxsize: {2}\\nysize: {3}\\nGeoT: {4}\\nProjection: {5}'.format(\n",
    "    driver, NDV, xsize, ysize, GeoT, Projection)) #print metadata"
   ]
  },
  {
   "cell_type": "markdown",
   "metadata": {},
   "source": [
    "<div dir=\"rtl\">\n",
    "يمكن قراءة البيانات الموجودة في مجموعة بيانات gdal باستخدام وظيفة ReadAsArray. على سبيل المثال ، يتم استخدام الكود أدناه لقراءة مجموعة بيانات GeoTIFF المفتوحة كمصفوفة عددية. يمكنك رسم البيانات في هذه المصفوفة باستخدام الوظيفة في مكتبة matplotlib. انظر إلى رمز المثال ومخطط الإخراج أدناه. لاحظ مكان حدوث ارتفاع مستوى البخرنتح. ضع في اعتبارك أن هذه هي البيانات الأولية التي تظهر متوسط AETI اليومي في dekad. وبالتالي ، سيتم تصحيح القيمة في شريط الألوان بمضاعف وعدد الأيام في الخطوة التالية    \n",
    "</div>"
   ]
  },
  {
   "cell_type": "code",
   "execution_count": 12,
   "metadata": {
    "scrolled": false
   },
   "outputs": [
    {
     "data": {
      "image/png": "[encoded data removed]",
      "text/plain": [
       "<Figure size 432x288 with 2 Axes>"
      ]
     },
     "metadata": {
      "needs_background": "light"
     },
     "output_type": "display_data"
    }
   ],
   "source": [
    "Array = Subdataset.ReadAsArray().astype(np.float32) # قراءة مجموعة البيانات الفرعية كمصفوفة رقمية\n",
    "Array[Array == NDV] = np.nan # استبدل لا توجد قيمة بيانات بقيمة NAN\n",
    "\n",
    "plt.imshow(Array) # مخطط مجموعة كصورة\n",
    "plt.colorbar()\n",
    "plt.show()"
   ]
  },
  {
   "cell_type": "markdown",
   "metadata": {},
   "source": [
    "<div dir=\"rtl\">\n",
    "عادة ، يكون العقد 10 أيام ماعدا آخر عقد من الشهر. على سبيل المثال ، يمكن أن يحتوي آخر عقد في فبراير على 8 أو 9 أيام ، أما آخر عقد في يناير فيمكن أن يحتوي على 11 يومًا. يمكن حساب عدد الأيام في فترة البيانات النقطية عند معرفة تاريخ البدء والانتهاء. تذكر أنه في التمرين السابق ، يمكننا الحصول على هذه المعلومات باستخدام وظيفة الحزمة hkvwaporpy get_data_availity. أدناه يمكنك أن ترى أن كل raster_id له يوم بداية ونهاية.    \n",
    "</div>"
   ]
  },
  {
   "cell_type": "code",
   "execution_count": 13,
   "metadata": {
    "scrolled": true
   },
   "outputs": [
    {
     "name": "stdout",
     "output_type": "stream",
     "text": [
      "data_avail_period: DEKAD\n"
     ]
    },
    {
     "data": {
      "text/html": [
       "<div>\n",
       "<style scoped>\n",
       "    .dataframe tbody tr th:only-of-type {\n",
       "        vertical-align: middle;\n",
       "    }\n",
       "\n",
       "    .dataframe tbody tr th {\n",
       "        vertical-align: top;\n",
       "    }\n",
       "\n",
       "    .dataframe thead th {\n",
       "        text-align: right;\n",
       "    }\n",
       "</style>\n",
       "<table border=\"1\" class=\"dataframe\">\n",
       "  <thead>\n",
       "    <tr style=\"text-align: right;\">\n",
       "      <th></th>\n",
       "      <th>start_dekad</th>\n",
       "      <th>end_dekad</th>\n",
       "      <th>raster_id</th>\n",
       "      <th>bbox_srid</th>\n",
       "      <th>bbox_value</th>\n",
       "    </tr>\n",
       "    <tr>\n",
       "      <th>year</th>\n",
       "      <th></th>\n",
       "      <th></th>\n",
       "      <th></th>\n",
       "      <th></th>\n",
       "      <th></th>\n",
       "    </tr>\n",
       "  </thead>\n",
       "  <tbody>\n",
       "    <tr>\n",
       "      <th>2009</th>\n",
       "      <td>0101</td>\n",
       "      <td>0110</td>\n",
       "      <td>L2_AETI_0901</td>\n",
       "      <td>EPSG:4326</td>\n",
       "      <td>[-30.0044643, -40.0044643, 65.0044643, 40.0044...</td>\n",
       "    </tr>\n",
       "    <tr>\n",
       "      <th>2009</th>\n",
       "      <td>0111</td>\n",
       "      <td>0120</td>\n",
       "      <td>L2_AETI_0902</td>\n",
       "      <td>EPSG:4326</td>\n",
       "      <td>[-30.0044643, -40.0044643, 65.0044643, 40.0044...</td>\n",
       "    </tr>\n",
       "    <tr>\n",
       "      <th>2009</th>\n",
       "      <td>0121</td>\n",
       "      <td>0131</td>\n",
       "      <td>L2_AETI_0903</td>\n",
       "      <td>EPSG:4326</td>\n",
       "      <td>[-30.0044643, -40.0044643, 65.0044643, 40.0044...</td>\n",
       "    </tr>\n",
       "    <tr>\n",
       "      <th>2009</th>\n",
       "      <td>0201</td>\n",
       "      <td>0210</td>\n",
       "      <td>L2_AETI_0904</td>\n",
       "      <td>EPSG:4326</td>\n",
       "      <td>[-30.0044643, -40.0044643, 65.0044643, 40.0044...</td>\n",
       "    </tr>\n",
       "    <tr>\n",
       "      <th>2009</th>\n",
       "      <td>0211</td>\n",
       "      <td>0220</td>\n",
       "      <td>L2_AETI_0905</td>\n",
       "      <td>EPSG:4326</td>\n",
       "      <td>[-30.0044643, -40.0044643, 65.0044643, 40.0044...</td>\n",
       "    </tr>\n",
       "  </tbody>\n",
       "</table>\n",
       "</div>"
      ],
      "text/plain": [
       "     start_dekad end_dekad     raster_id  bbox_srid  \\\n",
       "year                                                  \n",
       "2009        0101      0110  L2_AETI_0901  EPSG:4326   \n",
       "2009        0111      0120  L2_AETI_0902  EPSG:4326   \n",
       "2009        0121      0131  L2_AETI_0903  EPSG:4326   \n",
       "2009        0201      0210  L2_AETI_0904  EPSG:4326   \n",
       "2009        0211      0220  L2_AETI_0905  EPSG:4326   \n",
       "\n",
       "                                             bbox_value  \n",
       "year                                                     \n",
       "2009  [-30.0044643, -40.0044643, 65.0044643, 40.0044...  \n",
       "2009  [-30.0044643, -40.0044643, 65.0044643, 40.0044...  \n",
       "2009  [-30.0044643, -40.0044643, 65.0044643, 40.0044...  \n",
       "2009  [-30.0044643, -40.0044643, 65.0044643, 40.0044...  \n",
       "2009  [-30.0044643, -40.0044643, 65.0044643, 40.0044...  "
      ]
     },
     "execution_count": 13,
     "metadata": {},
     "output_type": "execute_result"
    }
   ],
   "source": [
    "df_avail=hkv.read_wapor.get_data_availability(cube_info=cube_info,time_range='[2008-01-01,2018-12-31]')\n",
    "df_avail.head()"
   ]
  },
  {
   "cell_type": "markdown",
   "metadata": {},
   "source": [
    "<div dir=\"rtl\">\n",
    "يمكننا الوصول إلى هذه المعلومات واستخدامها لحساب عدد الأيام في فترة البيانات النقطية. فيما يلي مثال على كيفية الحصول على عدد الأيام في الفترة النقطية الأولى في قائمة البيانات المتاحة df_avail. يمكنك محاولة تعديل التعليمات البرمجية لإجراء نفس الحساب لفترات خطوط المسح الأخرى.    \n",
    "</div>"
   ]
  },
  {
   "cell_type": "code",
   "execution_count": 14,
   "metadata": {},
   "outputs": [
    {
     "name": "stdout",
     "output_type": "stream",
     "text": [
      "L2_AETI_0901\n"
     ]
    },
    {
     "data": {
      "text/html": [
       "<div>\n",
       "<style scoped>\n",
       "    .dataframe tbody tr th:only-of-type {\n",
       "        vertical-align: middle;\n",
       "    }\n",
       "\n",
       "    .dataframe tbody tr th {\n",
       "        vertical-align: top;\n",
       "    }\n",
       "\n",
       "    .dataframe thead th {\n",
       "        text-align: right;\n",
       "    }\n",
       "</style>\n",
       "<table border=\"1\" class=\"dataframe\">\n",
       "  <thead>\n",
       "    <tr style=\"text-align: right;\">\n",
       "      <th></th>\n",
       "      <th>start_dekad</th>\n",
       "      <th>end_dekad</th>\n",
       "      <th>raster_id</th>\n",
       "      <th>bbox_srid</th>\n",
       "      <th>bbox_value</th>\n",
       "    </tr>\n",
       "    <tr>\n",
       "      <th>year</th>\n",
       "      <th></th>\n",
       "      <th></th>\n",
       "      <th></th>\n",
       "      <th></th>\n",
       "      <th></th>\n",
       "    </tr>\n",
       "  </thead>\n",
       "  <tbody>\n",
       "    <tr>\n",
       "      <th>2009</th>\n",
       "      <td>0101</td>\n",
       "      <td>0110</td>\n",
       "      <td>L2_AETI_0901</td>\n",
       "      <td>EPSG:4326</td>\n",
       "      <td>[-30.0044643, -40.0044643, 65.0044643, 40.0044...</td>\n",
       "    </tr>\n",
       "  </tbody>\n",
       "</table>\n",
       "</div>"
      ],
      "text/plain": [
       "     start_dekad end_dekad     raster_id  bbox_srid  \\\n",
       "year                                                  \n",
       "2009        0101      0110  L2_AETI_0901  EPSG:4326   \n",
       "\n",
       "                                             bbox_value  \n",
       "year                                                     \n",
       "2009  [-30.0044643, -40.0044643, 65.0044643, 40.0044...  "
      ]
     },
     "execution_count": 14,
     "metadata": {},
     "output_type": "execute_result"
    }
   ],
   "source": [
    "raster_id=os.path.basename(in_fh).split('.')[0] # احصل على معرف نقطي من اسم الملف\n",
    "print(raster_id)\n",
    "raster_info=df_avail.loc[df_avail['raster_id']==raster_id] # اقرأ الفترة المقابلة لمعرف البيانات النقطية\n",
    "raster_info"
   ]
  },
  {
   "cell_type": "markdown",
   "metadata": {},
   "source": [
    "<div dir=\"rtl\">\n",
    "حساب عدد الأيام في عقد من خطوط المسح. هنا ، raster_info ['start_dekad'] من نوع سلسلة لذا يجب تحويلها إلى رقم صحيح للحساب. ناتج خلية الشفرة أدناه هو عدد أيام العقد النقطية    \n",
    "</div>"
   ]
  },
  {
   "cell_type": "code",
   "execution_count": 15,
   "metadata": {},
   "outputs": [
    {
     "data": {
      "text/plain": [
       "10"
      ]
     },
     "execution_count": 15,
     "metadata": {},
     "output_type": "execute_result"
    }
   ],
   "source": [
    "start=int(raster_info['start_dekad'].iloc[0]) \n",
    "end=int(raster_info['end_dekad'].iloc[0])\n",
    "ndays=end-start+1\n",
    "ndays"
   ]
  },
  {
   "cell_type": "markdown",
   "metadata": {},
   "source": [
    "<div dir=\"rtl\">\n",
    "مجرد حصولنا على معلومات مضاعف عامل التحويل وعدد الأيام ، يمكننا تصحيح البيانات الأولية في مجموعة الخرائط النقطية بضرب النسق المفتوح بهاتين القيمتين. انظر المثال أدناه.    \n",
    "</div>"
   ]
  },
  {
   "cell_type": "code",
   "execution_count": 18,
   "metadata": {
    "scrolled": false
   },
   "outputs": [
    {
     "name": "stdout",
     "output_type": "stream",
     "text": [
      "multiplier: 0.1\n",
      "number of days: 10\n"
     ]
    },
    {
     "data": {
      "image/png": "[encoded data removed]",
      "text/plain": [
       "<Figure size 432x288 with 2 Axes>"
      ]
     },
     "metadata": {
      "needs_background": "light"
     },
     "output_type": "display_data"
    }
   ],
   "source": [
    "print('المضاعف: {0}'.format(multiplier))\n",
    "print('عدد الأيام: {0}'.format(ndays))\n",
    "CorrectedArray=Array*multiplier*ndays\n",
    "plt.imshow(CorrectedArray)\n",
    "plt.colorbar()\n",
    "plt.show()"
   ]
  },
  {
   "cell_type": "markdown",
   "metadata": {},
   "source": [
    "<div dir=\"rtl\">\n",
    "لاحظ أن القيمة في شريط اللون لا تتغير لأن المصفوفة مضروبة بـ 0.1 و 10. إذا كان عدد الأيام مختلفًا عن 10 ، فإن القيمة الجديدة بـ mm / dekad ستكون مختلفة عن متوسط العقد اليومي mm / day. لحفظ نتيجتنا كملف نقطي (GeoTIFF) ، نحتاج إلى معرفة خصائص الملف النقطي الأصلي (برنامج التشغيل ، قيمة Nodata ، الحجم ، المدى ، الإسقاط). يوجد أدناه مثال لحفظ المصفوفة المصححة أعلاه كملف نقطي جديد. أولاً، يتم تحديد اسم ملف الإخراج ويتم إنشاء مجلد الإخراج إذا لم يكن موجودًا.    \n",
    "</div>"
   ]
  },
  {
   "cell_type": "code",
   "execution_count": 21,
   "metadata": {},
   "outputs": [
    {
     "name": "stdout",
     "output_type": "stream",
     "text": [
      ".\\data\\L2_AETI_D_corrected\\L2_AETI_0901.tif\n"
     ]
    }
   ],
   "source": [
    "output_folder=r'.\\data\\L2_AETI_D_corrected'\n",
    "if not os.path.exists(output_folder): # تحقق مما إذا كان output_folder موجودًا\n",
    "    os.makedirs(output_folder) # إذا لم تقم بإنشاء ملف output_folder\n",
    "out_fh=os.path.join(output_folder,raster_id+'.tif') # يتم تحديد مسار ملف الإخراج\n",
    "print(out_fh)"
   ]
  },
  {
   "cell_type": "markdown",
   "metadata": {},
   "source": [
    "<div dir=\"rtl\">\n",
    "ثم يتم حفظ قيمة CorrectedArray كـ out_fh في مجلد الإخراج (data/L2_AETI_D_corrected) باستخدام الرموز أدناه    \n",
    "</div>\n",
    "\n",
    "[مجلد الإخراج](data/L2_AETI_D_corrected)"
   ]
  },
  {
   "cell_type": "code",
   "execution_count": 20,
   "metadata": {},
   "outputs": [
    {
     "name": "stdout",
     "output_type": "stream",
     "text": [
      ".\\data\\L2_AETI_D_corrected\\L2_AETI_0901.tif\n"
     ]
    }
   ],
   "source": [
    "datatypes = {\"uint8\": 1, \"int8\": 1, \"uint16\": 2, \"int16\": 3, \"Int16\": 3, \"uint32\": 4,\n",
    "\"int32\": 5, \"float32\": 6, \"float64\": 7, \"complex64\": 10, \"complex128\": 11,\n",
    "\"Int32\": 5, \"Float32\": 6, \"Float64\": 7, \"Complex64\": 10, \"Complex128\": 11,}\n",
    "    \n",
    "driver, NDV, xsize, ysize, GeoT, Projection\n",
    "DataSet = driver.Create(out_fh,xsize,ysize,1,datatypes['float32']) # إنشاء مجموعة بيانات من برنامج التشغيل\n",
    "DataSet.GetRasterBand(1).SetNoDataValue(NDV) # تعيين قيمة Nodata لمجموعة البيانات الجديدة\n",
    "DataSet.SetGeoTransform(GeoT)# تعيين التحول الجغرافي\n",
    "DataSet.SetProjection(Projection.ExportToWkt()) \n",
    "DataSet.GetRasterBand(1).WriteArray(CorrectedArray) # اكتب قيم CorrectedArray إلى مجموعة البيانات الجديدة\n",
    "print(out_fh)"
   ]
  },
  {
   "cell_type": "markdown",
   "metadata": {},
   "source": [
    "<div dir=\"rtl\">\n",
    "\n",
    "###  2 تمرين    \n",
    "    \n",
    "</div>\n",
    "\n",
    "<div dir=\"rtl\">\n",
    "قم بتصحيح جميع بيانات AETI و E و T و I العقدية التي تم تنزيلها من دفتر الملاحظات السابق (1_Download_WaPOR_using_hkvwaporpy.ipynb) التمرين 1 مع مضاعف وعدد الأيام في dekad.    \n",
    "</div>\n",
    "\n",
    "[دفتر الملاحظات السابق](1_Download_WaPOR_using_hkvwaporpy.ipynb)\n",
    "\n",
    "<div dir=\"rtl\">\n",
    "ملحوظة:\n",
    "  استفد من الوظائف في الأمثلة. يمكنك استخدام حلقة for-loop. يمكنك إنشاء وظيفتك الخاصة باستخدام def لإعادة استخدامها لاحقً    \n",
    "</div>\n",
    "\n",
    "**def** Function(Inputs):\n",
    "\n",
    "    Do something with Inputs #افعل شيئًا باستخدام المدخلات\n",
    "    \n",
    "    return Output"
   ]
  },
  {
   "cell_type": "code",
   "execution_count": 22,
   "metadata": {},
   "outputs": [],
   "source": [
    "import hkvwaporpy as hkv\n",
    "import glob\n",
    "import os\n",
    "from osgeo import gdal\n",
    "import numpy as np\n",
    "import osr\n",
    "\n",
    "def GetGeoInfo(fh, subdataset = 0):\n",
    "    '''\n",
    "    تستخرج هذه الوظيفة البيانات الوصفية من ملف GeoTIFF أو HDF4 أو netCDF.      \n",
    "    ''' \n",
    "    '''\n",
    "    اكتب الكود الخاص بك هنا\n",
    "    ''' \n",
    "    return driver, NDV, xsize, ysize, GeoT, Projection\n",
    "\n",
    "def OpenAsArray(fh, bandnumber = 1, dtype = 'float32', nan_values = False):\n",
    "    '''\n",
    "    تقرأ هذه الوظيفة ملف GeoTIFF أو HDF4 كمصفوفة numpy.\n",
    "    ''' \n",
    "    '''\n",
    "    اكتب الكود الخاص بك هنا\n",
    "    ''' \n",
    "    return Array\n",
    "\n",
    "def CreateGeoTiff(fh, Array, driver, NDV, xsize, ysize, GeoT, \n",
    "                  Projection, explicit = True, compress = None):      \n",
    "    '''\n",
    "    تقوم هذه الوظيفة بحفظ مصفوفة numpy كملف GeoTIFF نقطي.\n",
    "    ''' \n",
    "    '''\n",
    "    اكتب الكود الخاص بك هنا\n",
    "    ''' "
   ]
  },
  {
   "cell_type": "markdown",
   "metadata": {},
   "source": [
    "<div dir=\"rtl\">\n",
    "بعد إكمال وتحديد الوظائف المذكورة أعلاه ، يمكنك إعادة استخدامها في الكود أدناه لتصحيح بيانات dekadal AETI    \n",
    "</div>"
   ]
  },
  {
   "cell_type": "code",
   "execution_count": 24,
   "metadata": {
    "scrolled": true
   },
   "outputs": [
    {
     "name": "stdout",
     "output_type": "stream",
     "text": [
      "data_avail_period: DEKAD\n",
      ".\\data\\L2_AETI_D_corrected\\L2_AETI_0901.tif\n",
      ".\\data\\L2_AETI_D_corrected\\L2_AETI_0902.tif\n",
      ".\\data\\L2_AETI_D_corrected\\L2_AETI_0903.tif\n",
      ".\\data\\L2_AETI_D_corrected\\L2_AETI_0904.tif\n",
      ".\\data\\L2_AETI_D_corrected\\L2_AETI_0905.tif\n",
      ".\\data\\L2_AETI_D_corrected\\L2_AETI_0906.tif\n",
      ".\\data\\L2_AETI_D_corrected\\L2_AETI_0907.tif\n",
      ".\\data\\L2_AETI_D_corrected\\L2_AETI_0908.tif\n",
      ".\\data\\L2_AETI_D_corrected\\L2_AETI_0909.tif\n",
      ".\\data\\L2_AETI_D_corrected\\L2_AETI_0910.tif\n",
      ".\\data\\L2_AETI_D_corrected\\L2_AETI_0911.tif\n",
      ".\\data\\L2_AETI_D_corrected\\L2_AETI_0912.tif\n",
      ".\\data\\L2_AETI_D_corrected\\L2_AETI_0913.tif\n",
      ".\\data\\L2_AETI_D_corrected\\L2_AETI_0914.tif\n",
      ".\\data\\L2_AETI_D_corrected\\L2_AETI_0915.tif\n",
      ".\\data\\L2_AETI_D_corrected\\L2_AETI_0916.tif\n",
      ".\\data\\L2_AETI_D_corrected\\L2_AETI_0917.tif\n",
      ".\\data\\L2_AETI_D_corrected\\L2_AETI_0918.tif\n",
      ".\\data\\L2_AETI_D_corrected\\L2_AETI_0919.tif\n",
      ".\\data\\L2_AETI_D_corrected\\L2_AETI_0920.tif\n",
      ".\\data\\L2_AETI_D_corrected\\L2_AETI_0921.tif\n",
      ".\\data\\L2_AETI_D_corrected\\L2_AETI_0922.tif\n",
      ".\\data\\L2_AETI_D_corrected\\L2_AETI_0923.tif\n",
      ".\\data\\L2_AETI_D_corrected\\L2_AETI_0924.tif\n",
      ".\\data\\L2_AETI_D_corrected\\L2_AETI_0925.tif\n",
      ".\\data\\L2_AETI_D_corrected\\L2_AETI_0926.tif\n",
      ".\\data\\L2_AETI_D_corrected\\L2_AETI_0927.tif\n",
      ".\\data\\L2_AETI_D_corrected\\L2_AETI_0928.tif\n",
      ".\\data\\L2_AETI_D_corrected\\L2_AETI_0929.tif\n",
      ".\\data\\L2_AETI_D_corrected\\L2_AETI_0930.tif\n",
      ".\\data\\L2_AETI_D_corrected\\L2_AETI_0931.tif\n",
      ".\\data\\L2_AETI_D_corrected\\L2_AETI_0932.tif\n",
      ".\\data\\L2_AETI_D_corrected\\L2_AETI_0933.tif\n",
      ".\\data\\L2_AETI_D_corrected\\L2_AETI_0934.tif\n",
      ".\\data\\L2_AETI_D_corrected\\L2_AETI_0935.tif\n",
      ".\\data\\L2_AETI_D_corrected\\L2_AETI_0936.tif\n"
     ]
    }
   ],
   "source": [
    "df=hkv.read_wapor.get_catalogus()\n",
    "ds_code='L2_AETI_D' \n",
    "cube_info=hkv.read_wapor.get_info_cube(cube_code=ds_code)\n",
    "df_avail=hkv.read_wapor.get_data_availability(cube_info=cube_info,time_range='[2009-01-01,2009-12-31]')\n",
    "\n",
    "### احصل على المضاعف\n",
    "multiplier = cube_info.loc['measures',ds_code].loc['multiplier'].iloc[0]\n",
    "\n",
    "### الحصول على البيانات النقطية\n",
    "input_folder=r'.\\data\\L2_AETI_D'\n",
    "input_fhs=sorted(glob.glob(input_folder+'\\*.tif'))\n",
    "\n",
    "output_folder=r'.\\data\\L2_AETI_D_corrected'\n",
    "if not os.path.exists(output_folder):\n",
    "    os.makedirs(output_folder)\n",
    "### احصل على GeoInfo\n",
    "in_fh=input_fhs[0]\n",
    "driver, NDV, xsize, ysize, GeoT, Projection=GetGeoInfo(in_fh)\n",
    "\n",
    "### الحساب\n",
    "for in_fh in input_fhs:\n",
    "    ### احصل على عدد الأيام في الفترة النقطية\n",
    "    raster_id=os.path.split(in_fh)[-1].split('.')[0]\n",
    "    raster_info=df_avail.loc[df_avail['raster_id']==raster_id]\n",
    "    start=int(raster_info['start_dekad'].iloc[0])\n",
    "    end=int(raster_info['end_dekad'].iloc[0])\n",
    "    ndays=end-start+1\n",
    "    ### تصحيح البيانات النقطية مع المضاعف وعدد الأيام\n",
    "    Array=OpenAsArray(in_fh,nan_values=True)\n",
    "    CorrectedArray=Array*multiplier*ndays\n",
    "    ### حفظ مجموعة مصححة\n",
    "    out_fh=os.path.join(output_folder,raster_id+'.tif')\n",
    "    CreateGeoTiff(out_fh, CorrectedArray, driver, NDV, xsize, ysize, GeoT, Projection)\n",
    "    print(out_fh)"
   ]
  },
  {
   "cell_type": "markdown",
   "metadata": {},
   "source": [
    "## Step 3. Aggregate monthly data\n",
    "\n",
    "<div dir=\"rtl\">\n",
    "الخطوة 3. تجميع البيانات الشهرية    \n",
    "</div>\n",
    "\n",
    "<div dir=\"rtl\">    \n",
    "\n",
    "### مثال\n",
    "    \n",
    "</div>    \n",
    "\n",
    "<div dir=\"rtl\">\n",
    "لاحظ أن البيانات الشهرية متوفرة فقط في إصدارات WaPOR 2 بينما الإصدار 1 يحتوي فقط على بيانات عقدية وسنوية. في هذه الحالة ، يمكنك تجميع العقد لحساب البيانات الشهرية. لتحويل البيانات العقدية أو اليومية إلى بيانات شهرية ، سنجمع جميع البيانات في الخرائط النقطية العقدية في الشهر. أولاً ، سنحصل على قائمة بكل شهور وسنوات البيانات المتوفرة لدينا. على سبيل المثال ، يوجد أدناه رمز للحصول على قائمة بالشهر والسنة التي يجب حسابها.    \n",
    "</div>"
   ]
  },
  {
   "cell_type": "code",
   "execution_count": 26,
   "metadata": {
    "scrolled": true
   },
   "outputs": [
    {
     "name": "stdout",
     "output_type": "stream",
     "text": [
      "2009 1\n",
      "2009 2\n",
      "2009 3\n",
      "2009 4\n",
      "2009 5\n",
      "2009 6\n",
      "2009 7\n",
      "2009 8\n",
      "2009 9\n",
      "2009 10\n",
      "2009 11\n",
      "2009 12\n"
     ]
    }
   ],
   "source": [
    "start_date='2009-01-01'\n",
    "end_date='2009-12-31'\n",
    "month_dates=pd.date_range(start_date,end_date,freq='M')\n",
    "for date in month_dates:\n",
    "    print(date.year,date.month)"
   ]
  },
  {
   "cell_type": "markdown",
   "metadata": {},
   "source": [
    "<div dir=\"rtl\">\n",
    "الآن ، عندما ننظر إلى قائمة البيانات العقدية التي لدينا. تم استخدام raster_id لتسمية الملف النقطي في التمرين السابق. يحتوي هذا raster_id فقط على السنة ومؤشر dekad (من 1 إلى 36).    \n",
    "</div>"
   ]
  },
  {
   "cell_type": "code",
   "execution_count": 27,
   "metadata": {
    "scrolled": true
   },
   "outputs": [
    {
     "name": "stdout",
     "output_type": "stream",
     "text": [
      "data_avail_period: DEKAD\n",
      ".\\data\\L2_AETI_D_corrected\\L2_AETI_0901.tif\n",
      ".\\data\\L2_AETI_D_corrected\\L2_AETI_0902.tif\n",
      ".\\data\\L2_AETI_D_corrected\\L2_AETI_0903.tif\n",
      ".\\data\\L2_AETI_D_corrected\\L2_AETI_0904.tif\n",
      ".\\data\\L2_AETI_D_corrected\\L2_AETI_0905.tif\n",
      ".\\data\\L2_AETI_D_corrected\\L2_AETI_0906.tif\n",
      ".\\data\\L2_AETI_D_corrected\\L2_AETI_0907.tif\n",
      ".\\data\\L2_AETI_D_corrected\\L2_AETI_0908.tif\n",
      ".\\data\\L2_AETI_D_corrected\\L2_AETI_0909.tif\n",
      ".\\data\\L2_AETI_D_corrected\\L2_AETI_0910.tif\n",
      ".\\data\\L2_AETI_D_corrected\\L2_AETI_0911.tif\n",
      ".\\data\\L2_AETI_D_corrected\\L2_AETI_0912.tif\n",
      ".\\data\\L2_AETI_D_corrected\\L2_AETI_0913.tif\n",
      ".\\data\\L2_AETI_D_corrected\\L2_AETI_0914.tif\n",
      ".\\data\\L2_AETI_D_corrected\\L2_AETI_0915.tif\n",
      ".\\data\\L2_AETI_D_corrected\\L2_AETI_0916.tif\n",
      ".\\data\\L2_AETI_D_corrected\\L2_AETI_0917.tif\n",
      ".\\data\\L2_AETI_D_corrected\\L2_AETI_0918.tif\n",
      ".\\data\\L2_AETI_D_corrected\\L2_AETI_0919.tif\n",
      ".\\data\\L2_AETI_D_corrected\\L2_AETI_0920.tif\n",
      ".\\data\\L2_AETI_D_corrected\\L2_AETI_0921.tif\n",
      ".\\data\\L2_AETI_D_corrected\\L2_AETI_0922.tif\n",
      ".\\data\\L2_AETI_D_corrected\\L2_AETI_0923.tif\n",
      ".\\data\\L2_AETI_D_corrected\\L2_AETI_0924.tif\n",
      ".\\data\\L2_AETI_D_corrected\\L2_AETI_0925.tif\n",
      ".\\data\\L2_AETI_D_corrected\\L2_AETI_0926.tif\n",
      ".\\data\\L2_AETI_D_corrected\\L2_AETI_0927.tif\n",
      ".\\data\\L2_AETI_D_corrected\\L2_AETI_0928.tif\n",
      ".\\data\\L2_AETI_D_corrected\\L2_AETI_0929.tif\n",
      ".\\data\\L2_AETI_D_corrected\\L2_AETI_0930.tif\n",
      ".\\data\\L2_AETI_D_corrected\\L2_AETI_0931.tif\n",
      ".\\data\\L2_AETI_D_corrected\\L2_AETI_0932.tif\n",
      ".\\data\\L2_AETI_D_corrected\\L2_AETI_0933.tif\n",
      ".\\data\\L2_AETI_D_corrected\\L2_AETI_0934.tif\n",
      ".\\data\\L2_AETI_D_corrected\\L2_AETI_0935.tif\n",
      ".\\data\\L2_AETI_D_corrected\\L2_AETI_0936.tif\n"
     ]
    }
   ],
   "source": [
    "input_folder=r'.\\data\\L2_AETI_D_corrected'\n",
    "input_fhs=sorted(glob.glob(input_folder+'\\*.tif'))\n",
    "\n",
    "ds_code='L2_AETI_D' \n",
    "cube_info=hkv.read_wapor.get_info_cube(cube_code=ds_code)\n",
    "df_avail=hkv.read_wapor.get_data_availability(cube_info=cube_info,time_range='[2008-01-01,2018-12-31]')\n",
    "\n",
    "for in_fh in input_fhs:\n",
    "    print(in_fh)"
   ]
  },
  {
   "cell_type": "markdown",
   "metadata": {},
   "source": [
    "<div dir=\"rtl\">\n",
    "لذلك ، سوف نستخدم raster_id هذا للحصول على شهر dekad من df_avail dataframe. تذكر من التمرين السابق استخدمنا start_dekad و end_dekad لحساب عدد الايام في العقد؟ يمكننا أيضًا استخدام هذا للتحقق مما إذا كان مؤشر dekad ينتمي إلى الشهر الذي نريد حساب القيمة الإجمالية باستخدام شرط if. على سبيل المثال ، الشهر الذي نريد حساب القيمة الإجمالية هو الشهر الأول من القائمة (date = month_dates[0]). نقوم بعمل حلقة فوق جميع الملفات النقطية ونتحقق مما إذا كان الشهر والسنة اللذين ينتمي إليهما متماثلان مع الشهر والسنة اللذين نريد حسابهما.    \n",
    "</div>\n",
    "\n",
    "**if** (year==date.year)&(month==date.month):\n",
    "\n",
    "    month_fhs.append(in_fh)\n",
    "\n",
    "\n",
    "<div dir=\"rtl\">\n",
    "    \n",
    "إذا كان هذا صحيحًا ، فسيتم إضافة معالج الملف النقطي إلى قائمة معالجات الملفات التي تنتمي إلى الشهر المعني. على سبيل المثال ، تحصل الشفرة أدناه على قائمة بمعالجات الملفات النقطية الخاصة بـ dekads تنتمي إلى الشهر الأول من عام 2009.    \n",
    "</div>"
   ]
  },
  {
   "cell_type": "code",
   "execution_count": 28,
   "metadata": {
    "scrolled": true
   },
   "outputs": [
    {
     "name": "stdout",
     "output_type": "stream",
     "text": [
      "2009-01-31 00:00:00\n",
      "['.\\\\data\\\\L2_AETI_D_corrected\\\\L2_AETI_0901.tif', '.\\\\data\\\\L2_AETI_D_corrected\\\\L2_AETI_0902.tif', '.\\\\data\\\\L2_AETI_D_corrected\\\\L2_AETI_0903.tif']\n"
     ]
    }
   ],
   "source": [
    "date=month_dates[0]\n",
    "print(date)\n",
    "month_fhs=[]\n",
    "for in_fh in input_fhs:\n",
    "    raster_id=os.path.split(in_fh)[-1].split('.')[0]\n",
    "    raster_info=df_avail.loc[df_avail['raster_id']==raster_id]\n",
    "    start=raster_info['start_dekad'].iloc[0]\n",
    "    year=raster_info.index.values.astype(int)[0]\n",
    "    month=int(start[0:2])\n",
    "    if (year==date.year)&(month==date.month):\n",
    "        month_fhs.append(in_fh)\n",
    "print(month_fhs)"
   ]
  },
  {
   "cell_type": "markdown",
   "metadata": {},
   "source": [
    "<div dir=\"rtl\">\n",
    "لإضافة البيانات من النقطيات الثلاثة ، نقوم بإنشاء مصفوفة أصفار ثنائية الأبعاد بنفس الحجم باستخدام النقطيات الثلاثة باستخدام np.zeros ثم اقرأ كل نقطية كمصفوفة وأضف القيمة إلى مجموعة الأصفار هذه. يوجد أدناه مثال لحساب SumArray    \n",
    "</div>"
   ]
  },
  {
   "cell_type": "code",
   "execution_count": 29,
   "metadata": {},
   "outputs": [
    {
     "name": "stdout",
     "output_type": "stream",
     "text": [
      ".\\data\\L2_AETI_D_corrected\\L2_AETI_0901.tif\n",
      "5406 4529\n"
     ]
    },
    {
     "data": {
      "image/png": "[encoded data removed]",
      "text/plain": [
       "<Figure size 432x288 with 2 Axes>"
      ]
     },
     "metadata": {
      "needs_background": "light"
     },
     "output_type": "display_data"
    }
   ],
   "source": [
    "print(input_fhs[0])\n",
    "driver, NDV, xsize, ysize, GeoT, Projection=GetGeoInfo(input_fhs[0])\n",
    "print(xsize,ysize)\n",
    "SumArray=np.zeros((ysize,xsize))\n",
    "for fh in month_fhs:\n",
    "    Array=OpenAsArray(fh,nan_values=True)\n",
    "    SumArray+=Array\n",
    "plt.imshow(SumArray)\n",
    "plt.colorbar()\n",
    "plt.show()"
   ]
  },
  {
   "cell_type": "markdown",
   "metadata": {},
   "source": [
    "<div dir=\"rtl\">\n",
    "باستخدام وظيفة Create GeoTiff التي تم تحديدها من قبل ، يمكننا حفظ Sum Array كبيانات نقطية شهرية    \n",
    "</div>"
   ]
  },
  {
   "cell_type": "code",
   "execution_count": 30,
   "metadata": {},
   "outputs": [
    {
     "name": "stdout",
     "output_type": "stream",
     "text": [
      ".\\data\\L2_AETI_M\\AETI_200901.tif\n"
     ]
    }
   ],
   "source": [
    "output_folder=r'.\\data\\L2_AETI_M'\n",
    "if not os.path.exists(output_folder):\n",
    "    os.makedirs(output_folder)\n",
    "out_fh=os.path.join(output_folder,'AETI_{:04d}{:02d}.tif'.format(date.year,date.month))\n",
    "print(out_fh)\n",
    "CreateGeoTiff(out_fh, SumArray, driver, NDV, xsize, ysize, GeoT, Projection)"
   ]
  },
  {
   "cell_type": "markdown",
   "metadata": {},
   "source": [
    "<div dir=\"rtl\">\n",
    "باستخدام حلقة for-loop للتكرار على مدار جميع تواريخ الشهر لعام 2009 ، يمكننا تجميع البيانات النقطية الشهرية من جميع بيانات dekadal النقطية التي تم تنزيلها. سيتم حفظ الملفات الناتجة في مجلد الإخراج L2_AETI_M (data/L2_AETI_M)    \n",
    "</div>\n",
    "\n",
    "[L2_AETI_M](data/L2_AETI_M)"
   ]
  },
  {
   "cell_type": "code",
   "execution_count": 31,
   "metadata": {},
   "outputs": [],
   "source": [
    "for date in month_dates:\n",
    "    month_fhs=[]\n",
    "    for in_fh in input_fhs:\n",
    "        raster_id=os.path.split(in_fh)[-1].split('.')[0]\n",
    "        raster_info=df_avail.loc[df_avail['raster_id']==raster_id]\n",
    "        start=raster_info['start_dekad'].iloc[0]\n",
    "        year=raster_info.index.values.astype(int)[0]\n",
    "        month=int(start[0:2])\n",
    "        if (year==date.year)&(month==date.month):\n",
    "            month_fhs.append(in_fh)\n",
    "    SumArray=np.zeros((ysize,xsize))\n",
    "    for fh in month_fhs:\n",
    "        Array=OpenAsArray(fh,nan_values=True)\n",
    "        SumArray+=Array\n",
    "    out_fh=os.path.join(output_folder,'AETI_{:04d}{:02d}.tif'.format(date.year,date.month))\n",
    "    CreateGeoTiff(out_fh, SumArray, driver, NDV, xsize, ysize, GeoT, Projection)"
   ]
  },
  {
   "cell_type": "markdown",
   "metadata": {},
   "source": [
    "## Step 4. Aggregate data in a period\n",
    "\n",
    "<div dir=\"rtl\">\n",
    "الخطوة 4. تجميع البيانات في فترة    \n",
    "</div>\n",
    "\n",
    "\n",
    "<div dir=\"rtl\">\n",
    "في حال أردنا تجميع بيانات dekadal النقطية لفترة مخصصة بدلاً من الشهر (على سبيل المثال ، مواسم المحاصيل) ، يمكننا استخدام خطوات مماثلة. أولاً ، احصل على قائمة بجميع البيانات النقطية المصححة في المجلد    \n",
    "</div>"
   ]
  },
  {
   "cell_type": "code",
   "execution_count": 32,
   "metadata": {
    "scrolled": true
   },
   "outputs": [
    {
     "data": {
      "text/plain": [
       "['.\\\\data\\\\L2_AETI_D_corrected\\\\L2_AETI_0901.tif',\n",
       " '.\\\\data\\\\L2_AETI_D_corrected\\\\L2_AETI_0902.tif',\n",
       " '.\\\\data\\\\L2_AETI_D_corrected\\\\L2_AETI_0903.tif',\n",
       " '.\\\\data\\\\L2_AETI_D_corrected\\\\L2_AETI_0904.tif',\n",
       " '.\\\\data\\\\L2_AETI_D_corrected\\\\L2_AETI_0905.tif',\n",
       " '.\\\\data\\\\L2_AETI_D_corrected\\\\L2_AETI_0906.tif',\n",
       " '.\\\\data\\\\L2_AETI_D_corrected\\\\L2_AETI_0907.tif',\n",
       " '.\\\\data\\\\L2_AETI_D_corrected\\\\L2_AETI_0908.tif',\n",
       " '.\\\\data\\\\L2_AETI_D_corrected\\\\L2_AETI_0909.tif',\n",
       " '.\\\\data\\\\L2_AETI_D_corrected\\\\L2_AETI_0910.tif',\n",
       " '.\\\\data\\\\L2_AETI_D_corrected\\\\L2_AETI_0911.tif',\n",
       " '.\\\\data\\\\L2_AETI_D_corrected\\\\L2_AETI_0912.tif',\n",
       " '.\\\\data\\\\L2_AETI_D_corrected\\\\L2_AETI_0913.tif',\n",
       " '.\\\\data\\\\L2_AETI_D_corrected\\\\L2_AETI_0914.tif',\n",
       " '.\\\\data\\\\L2_AETI_D_corrected\\\\L2_AETI_0915.tif',\n",
       " '.\\\\data\\\\L2_AETI_D_corrected\\\\L2_AETI_0916.tif',\n",
       " '.\\\\data\\\\L2_AETI_D_corrected\\\\L2_AETI_0917.tif',\n",
       " '.\\\\data\\\\L2_AETI_D_corrected\\\\L2_AETI_0918.tif',\n",
       " '.\\\\data\\\\L2_AETI_D_corrected\\\\L2_AETI_0919.tif',\n",
       " '.\\\\data\\\\L2_AETI_D_corrected\\\\L2_AETI_0920.tif',\n",
       " '.\\\\data\\\\L2_AETI_D_corrected\\\\L2_AETI_0921.tif',\n",
       " '.\\\\data\\\\L2_AETI_D_corrected\\\\L2_AETI_0922.tif',\n",
       " '.\\\\data\\\\L2_AETI_D_corrected\\\\L2_AETI_0923.tif',\n",
       " '.\\\\data\\\\L2_AETI_D_corrected\\\\L2_AETI_0924.tif',\n",
       " '.\\\\data\\\\L2_AETI_D_corrected\\\\L2_AETI_0925.tif',\n",
       " '.\\\\data\\\\L2_AETI_D_corrected\\\\L2_AETI_0926.tif',\n",
       " '.\\\\data\\\\L2_AETI_D_corrected\\\\L2_AETI_0927.tif',\n",
       " '.\\\\data\\\\L2_AETI_D_corrected\\\\L2_AETI_0928.tif',\n",
       " '.\\\\data\\\\L2_AETI_D_corrected\\\\L2_AETI_0929.tif',\n",
       " '.\\\\data\\\\L2_AETI_D_corrected\\\\L2_AETI_0930.tif',\n",
       " '.\\\\data\\\\L2_AETI_D_corrected\\\\L2_AETI_0931.tif',\n",
       " '.\\\\data\\\\L2_AETI_D_corrected\\\\L2_AETI_0932.tif',\n",
       " '.\\\\data\\\\L2_AETI_D_corrected\\\\L2_AETI_0933.tif',\n",
       " '.\\\\data\\\\L2_AETI_D_corrected\\\\L2_AETI_0934.tif',\n",
       " '.\\\\data\\\\L2_AETI_D_corrected\\\\L2_AETI_0935.tif',\n",
       " '.\\\\data\\\\L2_AETI_D_corrected\\\\L2_AETI_0936.tif']"
      ]
     },
     "execution_count": 32,
     "metadata": {},
     "output_type": "execute_result"
    }
   ],
   "source": [
    "input_folder=r'.\\data\\L2_AETI_D_corrected'\n",
    "input_fhs=sorted(glob.glob(input_folder+'\\*.tif'))\n",
    "input_fhs"
   ]
  },
  {
   "cell_type": "markdown",
   "metadata": {},
   "source": [
    "<div dir=\"rtl\">\n",
    "أنشئ الفترة بتواريخ البدء والانتهاء. على سبيل المثال ، هنا تبدأ الفترة من فبراير إلى أغسطس 2009    \n",
    "</div>"
   ]
  },
  {
   "cell_type": "code",
   "execution_count": 34,
   "metadata": {},
   "outputs": [
    {
     "data": {
      "text/plain": [
       "DatetimeIndex(['2009-02-01', '2009-02-02', '2009-02-03', '2009-02-04',\n",
       "               '2009-02-05', '2009-02-06', '2009-02-07', '2009-02-08',\n",
       "               '2009-02-09', '2009-02-10',\n",
       "               ...\n",
       "               '2009-08-01', '2009-08-02', '2009-08-03', '2009-08-04',\n",
       "               '2009-08-05', '2009-08-06', '2009-08-07', '2009-08-08',\n",
       "               '2009-08-09', '2009-08-10'],\n",
       "              dtype='datetime64[ns]', length=191, freq='D')"
      ]
     },
     "execution_count": 34,
     "metadata": {},
     "output_type": "execute_result"
    }
   ],
   "source": [
    "start_period='2009-02-01'\n",
    "end_period='2009-08-10'\n",
    "period_dates=pd.date_range(start_period,end_period,freq='D')\n",
    "period_dates"
   ]
  },
  {
   "cell_type": "markdown",
   "metadata": {},
   "source": [
    "<div dir=\"rtl\">\n",
    "بعد ذلك ، سوف نحصل على جدول المعلومات النقطية المتاح لعام 2009 باستخدام وظيفة hkvwaporpy    \n",
    "</div>"
   ]
  },
  {
   "cell_type": "code",
   "execution_count": 35,
   "metadata": {
    "scrolled": true
   },
   "outputs": [
    {
     "name": "stdout",
     "output_type": "stream",
     "text": [
      "data_avail_period: DEKAD\n"
     ]
    },
    {
     "data": {
      "text/html": [
       "<div>\n",
       "<style scoped>\n",
       "    .dataframe tbody tr th:only-of-type {\n",
       "        vertical-align: middle;\n",
       "    }\n",
       "\n",
       "    .dataframe tbody tr th {\n",
       "        vertical-align: top;\n",
       "    }\n",
       "\n",
       "    .dataframe thead th {\n",
       "        text-align: right;\n",
       "    }\n",
       "</style>\n",
       "<table border=\"1\" class=\"dataframe\">\n",
       "  <thead>\n",
       "    <tr style=\"text-align: right;\">\n",
       "      <th></th>\n",
       "      <th>start_dekad</th>\n",
       "      <th>end_dekad</th>\n",
       "      <th>raster_id</th>\n",
       "      <th>bbox_srid</th>\n",
       "      <th>bbox_value</th>\n",
       "    </tr>\n",
       "    <tr>\n",
       "      <th>year</th>\n",
       "      <th></th>\n",
       "      <th></th>\n",
       "      <th></th>\n",
       "      <th></th>\n",
       "      <th></th>\n",
       "    </tr>\n",
       "  </thead>\n",
       "  <tbody>\n",
       "    <tr>\n",
       "      <th>2009</th>\n",
       "      <td>0101</td>\n",
       "      <td>0110</td>\n",
       "      <td>L2_AETI_0901</td>\n",
       "      <td>EPSG:4326</td>\n",
       "      <td>[-30.0044643, -40.0044643, 65.0044643, 40.0044...</td>\n",
       "    </tr>\n",
       "    <tr>\n",
       "      <th>2009</th>\n",
       "      <td>0111</td>\n",
       "      <td>0120</td>\n",
       "      <td>L2_AETI_0902</td>\n",
       "      <td>EPSG:4326</td>\n",
       "      <td>[-30.0044643, -40.0044643, 65.0044643, 40.0044...</td>\n",
       "    </tr>\n",
       "    <tr>\n",
       "      <th>2009</th>\n",
       "      <td>0121</td>\n",
       "      <td>0131</td>\n",
       "      <td>L2_AETI_0903</td>\n",
       "      <td>EPSG:4326</td>\n",
       "      <td>[-30.0044643, -40.0044643, 65.0044643, 40.0044...</td>\n",
       "    </tr>\n",
       "    <tr>\n",
       "      <th>2009</th>\n",
       "      <td>0201</td>\n",
       "      <td>0210</td>\n",
       "      <td>L2_AETI_0904</td>\n",
       "      <td>EPSG:4326</td>\n",
       "      <td>[-30.0044643, -40.0044643, 65.0044643, 40.0044...</td>\n",
       "    </tr>\n",
       "    <tr>\n",
       "      <th>2009</th>\n",
       "      <td>0211</td>\n",
       "      <td>0220</td>\n",
       "      <td>L2_AETI_0905</td>\n",
       "      <td>EPSG:4326</td>\n",
       "      <td>[-30.0044643, -40.0044643, 65.0044643, 40.0044...</td>\n",
       "    </tr>\n",
       "    <tr>\n",
       "      <th>2009</th>\n",
       "      <td>0221</td>\n",
       "      <td>0228</td>\n",
       "      <td>L2_AETI_0906</td>\n",
       "      <td>EPSG:4326</td>\n",
       "      <td>[-30.0044643, -40.0044643, 65.0044643, 40.0044...</td>\n",
       "    </tr>\n",
       "    <tr>\n",
       "      <th>2009</th>\n",
       "      <td>0301</td>\n",
       "      <td>0310</td>\n",
       "      <td>L2_AETI_0907</td>\n",
       "      <td>EPSG:4326</td>\n",
       "      <td>[-30.0044643, -40.0044643, 65.0044643, 40.0044...</td>\n",
       "    </tr>\n",
       "    <tr>\n",
       "      <th>2009</th>\n",
       "      <td>0311</td>\n",
       "      <td>0320</td>\n",
       "      <td>L2_AETI_0908</td>\n",
       "      <td>EPSG:4326</td>\n",
       "      <td>[-30.0044643, -40.0044643, 65.0044643, 40.0044...</td>\n",
       "    </tr>\n",
       "    <tr>\n",
       "      <th>2009</th>\n",
       "      <td>0321</td>\n",
       "      <td>0331</td>\n",
       "      <td>L2_AETI_0909</td>\n",
       "      <td>EPSG:4326</td>\n",
       "      <td>[-30.0044643, -40.0044643, 65.0044643, 40.0044...</td>\n",
       "    </tr>\n",
       "    <tr>\n",
       "      <th>2009</th>\n",
       "      <td>0401</td>\n",
       "      <td>0410</td>\n",
       "      <td>L2_AETI_0910</td>\n",
       "      <td>EPSG:4326</td>\n",
       "      <td>[-30.0044643, -40.0044643, 65.0044643, 40.0044...</td>\n",
       "    </tr>\n",
       "    <tr>\n",
       "      <th>2009</th>\n",
       "      <td>0411</td>\n",
       "      <td>0420</td>\n",
       "      <td>L2_AETI_0911</td>\n",
       "      <td>EPSG:4326</td>\n",
       "      <td>[-30.0044643, -40.0044643, 65.0044643, 40.0044...</td>\n",
       "    </tr>\n",
       "    <tr>\n",
       "      <th>2009</th>\n",
       "      <td>0421</td>\n",
       "      <td>0430</td>\n",
       "      <td>L2_AETI_0912</td>\n",
       "      <td>EPSG:4326</td>\n",
       "      <td>[-30.0044643, -40.0044643, 65.0044643, 40.0044...</td>\n",
       "    </tr>\n",
       "    <tr>\n",
       "      <th>2009</th>\n",
       "      <td>0501</td>\n",
       "      <td>0510</td>\n",
       "      <td>L2_AETI_0913</td>\n",
       "      <td>EPSG:4326</td>\n",
       "      <td>[-30.0044643, -40.0044643, 65.0044643, 40.0044...</td>\n",
       "    </tr>\n",
       "    <tr>\n",
       "      <th>2009</th>\n",
       "      <td>0511</td>\n",
       "      <td>0520</td>\n",
       "      <td>L2_AETI_0914</td>\n",
       "      <td>EPSG:4326</td>\n",
       "      <td>[-30.0044643, -40.0044643, 65.0044643, 40.0044...</td>\n",
       "    </tr>\n",
       "    <tr>\n",
       "      <th>2009</th>\n",
       "      <td>0521</td>\n",
       "      <td>0531</td>\n",
       "      <td>L2_AETI_0915</td>\n",
       "      <td>EPSG:4326</td>\n",
       "      <td>[-30.0044643, -40.0044643, 65.0044643, 40.0044...</td>\n",
       "    </tr>\n",
       "    <tr>\n",
       "      <th>2009</th>\n",
       "      <td>0601</td>\n",
       "      <td>0610</td>\n",
       "      <td>L2_AETI_0916</td>\n",
       "      <td>EPSG:4326</td>\n",
       "      <td>[-30.0044643, -40.0044643, 65.0044643, 40.0044...</td>\n",
       "    </tr>\n",
       "    <tr>\n",
       "      <th>2009</th>\n",
       "      <td>0611</td>\n",
       "      <td>0620</td>\n",
       "      <td>L2_AETI_0917</td>\n",
       "      <td>EPSG:4326</td>\n",
       "      <td>[-30.0044643, -40.0044643, 65.0044643, 40.0044...</td>\n",
       "    </tr>\n",
       "    <tr>\n",
       "      <th>2009</th>\n",
       "      <td>0621</td>\n",
       "      <td>0630</td>\n",
       "      <td>L2_AETI_0918</td>\n",
       "      <td>EPSG:4326</td>\n",
       "      <td>[-30.0044643, -40.0044643, 65.0044643, 40.0044...</td>\n",
       "    </tr>\n",
       "    <tr>\n",
       "      <th>2009</th>\n",
       "      <td>0701</td>\n",
       "      <td>0710</td>\n",
       "      <td>L2_AETI_0919</td>\n",
       "      <td>EPSG:4326</td>\n",
       "      <td>[-30.0044643, -40.0044643, 65.0044643, 40.0044...</td>\n",
       "    </tr>\n",
       "    <tr>\n",
       "      <th>2009</th>\n",
       "      <td>0711</td>\n",
       "      <td>0720</td>\n",
       "      <td>L2_AETI_0920</td>\n",
       "      <td>EPSG:4326</td>\n",
       "      <td>[-30.0044643, -40.0044643, 65.0044643, 40.0044...</td>\n",
       "    </tr>\n",
       "    <tr>\n",
       "      <th>2009</th>\n",
       "      <td>0721</td>\n",
       "      <td>0731</td>\n",
       "      <td>L2_AETI_0921</td>\n",
       "      <td>EPSG:4326</td>\n",
       "      <td>[-30.0044643, -40.0044643, 65.0044643, 40.0044...</td>\n",
       "    </tr>\n",
       "    <tr>\n",
       "      <th>2009</th>\n",
       "      <td>0801</td>\n",
       "      <td>0810</td>\n",
       "      <td>L2_AETI_0922</td>\n",
       "      <td>EPSG:4326</td>\n",
       "      <td>[-30.0044643, -40.0044643, 65.0044643, 40.0044...</td>\n",
       "    </tr>\n",
       "    <tr>\n",
       "      <th>2009</th>\n",
       "      <td>0811</td>\n",
       "      <td>0820</td>\n",
       "      <td>L2_AETI_0923</td>\n",
       "      <td>EPSG:4326</td>\n",
       "      <td>[-30.0044643, -40.0044643, 65.0044643, 40.0044...</td>\n",
       "    </tr>\n",
       "    <tr>\n",
       "      <th>2009</th>\n",
       "      <td>0821</td>\n",
       "      <td>0831</td>\n",
       "      <td>L2_AETI_0924</td>\n",
       "      <td>EPSG:4326</td>\n",
       "      <td>[-30.0044643, -40.0044643, 65.0044643, 40.0044...</td>\n",
       "    </tr>\n",
       "    <tr>\n",
       "      <th>2009</th>\n",
       "      <td>0901</td>\n",
       "      <td>0910</td>\n",
       "      <td>L2_AETI_0925</td>\n",
       "      <td>EPSG:4326</td>\n",
       "      <td>[-30.0044643, -40.0044643, 65.0044643, 40.0044...</td>\n",
       "    </tr>\n",
       "    <tr>\n",
       "      <th>2009</th>\n",
       "      <td>0911</td>\n",
       "      <td>0920</td>\n",
       "      <td>L2_AETI_0926</td>\n",
       "      <td>EPSG:4326</td>\n",
       "      <td>[-30.0044643, -40.0044643, 65.0044643, 40.0044...</td>\n",
       "    </tr>\n",
       "    <tr>\n",
       "      <th>2009</th>\n",
       "      <td>0921</td>\n",
       "      <td>0930</td>\n",
       "      <td>L2_AETI_0927</td>\n",
       "      <td>EPSG:4326</td>\n",
       "      <td>[-30.0044643, -40.0044643, 65.0044643, 40.0044...</td>\n",
       "    </tr>\n",
       "    <tr>\n",
       "      <th>2009</th>\n",
       "      <td>1001</td>\n",
       "      <td>1010</td>\n",
       "      <td>L2_AETI_0928</td>\n",
       "      <td>EPSG:4326</td>\n",
       "      <td>[-30.0044643, -40.0044643, 65.0044643, 40.0044...</td>\n",
       "    </tr>\n",
       "    <tr>\n",
       "      <th>2009</th>\n",
       "      <td>1011</td>\n",
       "      <td>1020</td>\n",
       "      <td>L2_AETI_0929</td>\n",
       "      <td>EPSG:4326</td>\n",
       "      <td>[-30.0044643, -40.0044643, 65.0044643, 40.0044...</td>\n",
       "    </tr>\n",
       "    <tr>\n",
       "      <th>2009</th>\n",
       "      <td>1021</td>\n",
       "      <td>1031</td>\n",
       "      <td>L2_AETI_0930</td>\n",
       "      <td>EPSG:4326</td>\n",
       "      <td>[-30.0044643, -40.0044643, 65.0044643, 40.0044...</td>\n",
       "    </tr>\n",
       "    <tr>\n",
       "      <th>2009</th>\n",
       "      <td>1101</td>\n",
       "      <td>1110</td>\n",
       "      <td>L2_AETI_0931</td>\n",
       "      <td>EPSG:4326</td>\n",
       "      <td>[-30.0044643, -40.0044643, 65.0044643, 40.0044...</td>\n",
       "    </tr>\n",
       "    <tr>\n",
       "      <th>2009</th>\n",
       "      <td>1111</td>\n",
       "      <td>1120</td>\n",
       "      <td>L2_AETI_0932</td>\n",
       "      <td>EPSG:4326</td>\n",
       "      <td>[-30.0044643, -40.0044643, 65.0044643, 40.0044...</td>\n",
       "    </tr>\n",
       "    <tr>\n",
       "      <th>2009</th>\n",
       "      <td>1121</td>\n",
       "      <td>1130</td>\n",
       "      <td>L2_AETI_0933</td>\n",
       "      <td>EPSG:4326</td>\n",
       "      <td>[-30.0044643, -40.0044643, 65.0044643, 40.0044...</td>\n",
       "    </tr>\n",
       "    <tr>\n",
       "      <th>2009</th>\n",
       "      <td>1201</td>\n",
       "      <td>1210</td>\n",
       "      <td>L2_AETI_0934</td>\n",
       "      <td>EPSG:4326</td>\n",
       "      <td>[-30.0044643, -40.0044643, 65.0044643, 40.0044...</td>\n",
       "    </tr>\n",
       "    <tr>\n",
       "      <th>2009</th>\n",
       "      <td>1211</td>\n",
       "      <td>1220</td>\n",
       "      <td>L2_AETI_0935</td>\n",
       "      <td>EPSG:4326</td>\n",
       "      <td>[-30.0044643, -40.0044643, 65.0044643, 40.0044...</td>\n",
       "    </tr>\n",
       "    <tr>\n",
       "      <th>2009</th>\n",
       "      <td>1221</td>\n",
       "      <td>1231</td>\n",
       "      <td>L2_AETI_0936</td>\n",
       "      <td>EPSG:4326</td>\n",
       "      <td>[-30.0044643, -40.0044643, 65.0044643, 40.0044...</td>\n",
       "    </tr>\n",
       "  </tbody>\n",
       "</table>\n",
       "</div>"
      ],
      "text/plain": [
       "     start_dekad end_dekad     raster_id  bbox_srid  \\\n",
       "year                                                  \n",
       "2009        0101      0110  L2_AETI_0901  EPSG:4326   \n",
       "2009        0111      0120  L2_AETI_0902  EPSG:4326   \n",
       "2009        0121      0131  L2_AETI_0903  EPSG:4326   \n",
       "2009        0201      0210  L2_AETI_0904  EPSG:4326   \n",
       "2009        0211      0220  L2_AETI_0905  EPSG:4326   \n",
       "2009        0221      0228  L2_AETI_0906  EPSG:4326   \n",
       "2009        0301      0310  L2_AETI_0907  EPSG:4326   \n",
       "2009        0311      0320  L2_AETI_0908  EPSG:4326   \n",
       "2009        0321      0331  L2_AETI_0909  EPSG:4326   \n",
       "2009        0401      0410  L2_AETI_0910  EPSG:4326   \n",
       "2009        0411      0420  L2_AETI_0911  EPSG:4326   \n",
       "2009        0421      0430  L2_AETI_0912  EPSG:4326   \n",
       "2009        0501      0510  L2_AETI_0913  EPSG:4326   \n",
       "2009        0511      0520  L2_AETI_0914  EPSG:4326   \n",
       "2009        0521      0531  L2_AETI_0915  EPSG:4326   \n",
       "2009        0601      0610  L2_AETI_0916  EPSG:4326   \n",
       "2009        0611      0620  L2_AETI_0917  EPSG:4326   \n",
       "2009        0621      0630  L2_AETI_0918  EPSG:4326   \n",
       "2009        0701      0710  L2_AETI_0919  EPSG:4326   \n",
       "2009        0711      0720  L2_AETI_0920  EPSG:4326   \n",
       "2009        0721      0731  L2_AETI_0921  EPSG:4326   \n",
       "2009        0801      0810  L2_AETI_0922  EPSG:4326   \n",
       "2009        0811      0820  L2_AETI_0923  EPSG:4326   \n",
       "2009        0821      0831  L2_AETI_0924  EPSG:4326   \n",
       "2009        0901      0910  L2_AETI_0925  EPSG:4326   \n",
       "2009        0911      0920  L2_AETI_0926  EPSG:4326   \n",
       "2009        0921      0930  L2_AETI_0927  EPSG:4326   \n",
       "2009        1001      1010  L2_AETI_0928  EPSG:4326   \n",
       "2009        1011      1020  L2_AETI_0929  EPSG:4326   \n",
       "2009        1021      1031  L2_AETI_0930  EPSG:4326   \n",
       "2009        1101      1110  L2_AETI_0931  EPSG:4326   \n",
       "2009        1111      1120  L2_AETI_0932  EPSG:4326   \n",
       "2009        1121      1130  L2_AETI_0933  EPSG:4326   \n",
       "2009        1201      1210  L2_AETI_0934  EPSG:4326   \n",
       "2009        1211      1220  L2_AETI_0935  EPSG:4326   \n",
       "2009        1221      1231  L2_AETI_0936  EPSG:4326   \n",
       "\n",
       "                                             bbox_value  \n",
       "year                                                     \n",
       "2009  [-30.0044643, -40.0044643, 65.0044643, 40.0044...  \n",
       "2009  [-30.0044643, -40.0044643, 65.0044643, 40.0044...  \n",
       "2009  [-30.0044643, -40.0044643, 65.0044643, 40.0044...  \n",
       "2009  [-30.0044643, -40.0044643, 65.0044643, 40.0044...  \n",
       "2009  [-30.0044643, -40.0044643, 65.0044643, 40.0044...  \n",
       "2009  [-30.0044643, -40.0044643, 65.0044643, 40.0044...  \n",
       "2009  [-30.0044643, -40.0044643, 65.0044643, 40.0044...  \n",
       "2009  [-30.0044643, -40.0044643, 65.0044643, 40.0044...  \n",
       "2009  [-30.0044643, -40.0044643, 65.0044643, 40.0044...  \n",
       "2009  [-30.0044643, -40.0044643, 65.0044643, 40.0044...  \n",
       "2009  [-30.0044643, -40.0044643, 65.0044643, 40.0044...  \n",
       "2009  [-30.0044643, -40.0044643, 65.0044643, 40.0044...  \n",
       "2009  [-30.0044643, -40.0044643, 65.0044643, 40.0044...  \n",
       "2009  [-30.0044643, -40.0044643, 65.0044643, 40.0044...  \n",
       "2009  [-30.0044643, -40.0044643, 65.0044643, 40.0044...  \n",
       "2009  [-30.0044643, -40.0044643, 65.0044643, 40.0044...  \n",
       "2009  [-30.0044643, -40.0044643, 65.0044643, 40.0044...  \n",
       "2009  [-30.0044643, -40.0044643, 65.0044643, 40.0044...  \n",
       "2009  [-30.0044643, -40.0044643, 65.0044643, 40.0044...  \n",
       "2009  [-30.0044643, -40.0044643, 65.0044643, 40.0044...  \n",
       "2009  [-30.0044643, -40.0044643, 65.0044643, 40.0044...  \n",
       "2009  [-30.0044643, -40.0044643, 65.0044643, 40.0044...  \n",
       "2009  [-30.0044643, -40.0044643, 65.0044643, 40.0044...  \n",
       "2009  [-30.0044643, -40.0044643, 65.0044643, 40.0044...  \n",
       "2009  [-30.0044643, -40.0044643, 65.0044643, 40.0044...  \n",
       "2009  [-30.0044643, -40.0044643, 65.0044643, 40.0044...  \n",
       "2009  [-30.0044643, -40.0044643, 65.0044643, 40.0044...  \n",
       "2009  [-30.0044643, -40.0044643, 65.0044643, 40.0044...  \n",
       "2009  [-30.0044643, -40.0044643, 65.0044643, 40.0044...  \n",
       "2009  [-30.0044643, -40.0044643, 65.0044643, 40.0044...  \n",
       "2009  [-30.0044643, -40.0044643, 65.0044643, 40.0044...  \n",
       "2009  [-30.0044643, -40.0044643, 65.0044643, 40.0044...  \n",
       "2009  [-30.0044643, -40.0044643, 65.0044643, 40.0044...  \n",
       "2009  [-30.0044643, -40.0044643, 65.0044643, 40.0044...  \n",
       "2009  [-30.0044643, -40.0044643, 65.0044643, 40.0044...  \n",
       "2009  [-30.0044643, -40.0044643, 65.0044643, 40.0044...  "
      ]
     },
     "execution_count": 35,
     "metadata": {},
     "output_type": "execute_result"
    }
   ],
   "source": [
    "df=hkv.read_wapor.get_catalogus(version='2.0')\n",
    "ds_code='L2_AETI_D' \n",
    "cube_info=hkv.read_wapor.get_info_cube(cube_code=ds_code)\n",
    "df_avail=hkv.read_wapor.get_data_availability(cube_info=cube_info,time_range='[2009-01-01,2009-12-31]')\n",
    "df_avail"
   ]
  },
  {
   "cell_type": "markdown",
   "metadata": {},
   "source": [
    "<div dir=\"rtl\">\n",
    "قم بالتمرير على قائمة البيانات النقطية في المجلد وتحقق مما إذا كان تاريخ بداية البيانات النقطية أو نهايتها ينتمي إلى الفترة. إذا كان هذا صحيحًا ، فقم بإلحاق مؤشر الملف النقطي بقائمة period_fhs. القائمة الناتجة سوف تحتوي على ملف نقطي من dekad 0904 (أول dekad من فبراير 2009) إلى dekad 0922 (أول dekad من أغسطس 2009)    \n",
    "</div>"
   ]
  },
  {
   "cell_type": "code",
   "execution_count": 36,
   "metadata": {},
   "outputs": [
    {
     "data": {
      "text/plain": [
       "['.\\\\data\\\\L2_AETI_D_corrected\\\\L2_AETI_0904.tif',\n",
       " '.\\\\data\\\\L2_AETI_D_corrected\\\\L2_AETI_0905.tif',\n",
       " '.\\\\data\\\\L2_AETI_D_corrected\\\\L2_AETI_0906.tif',\n",
       " '.\\\\data\\\\L2_AETI_D_corrected\\\\L2_AETI_0907.tif',\n",
       " '.\\\\data\\\\L2_AETI_D_corrected\\\\L2_AETI_0908.tif',\n",
       " '.\\\\data\\\\L2_AETI_D_corrected\\\\L2_AETI_0909.tif',\n",
       " '.\\\\data\\\\L2_AETI_D_corrected\\\\L2_AETI_0910.tif',\n",
       " '.\\\\data\\\\L2_AETI_D_corrected\\\\L2_AETI_0911.tif',\n",
       " '.\\\\data\\\\L2_AETI_D_corrected\\\\L2_AETI_0912.tif',\n",
       " '.\\\\data\\\\L2_AETI_D_corrected\\\\L2_AETI_0913.tif',\n",
       " '.\\\\data\\\\L2_AETI_D_corrected\\\\L2_AETI_0914.tif',\n",
       " '.\\\\data\\\\L2_AETI_D_corrected\\\\L2_AETI_0915.tif',\n",
       " '.\\\\data\\\\L2_AETI_D_corrected\\\\L2_AETI_0916.tif',\n",
       " '.\\\\data\\\\L2_AETI_D_corrected\\\\L2_AETI_0917.tif',\n",
       " '.\\\\data\\\\L2_AETI_D_corrected\\\\L2_AETI_0918.tif',\n",
       " '.\\\\data\\\\L2_AETI_D_corrected\\\\L2_AETI_0919.tif',\n",
       " '.\\\\data\\\\L2_AETI_D_corrected\\\\L2_AETI_0920.tif',\n",
       " '.\\\\data\\\\L2_AETI_D_corrected\\\\L2_AETI_0921.tif',\n",
       " '.\\\\data\\\\L2_AETI_D_corrected\\\\L2_AETI_0922.tif']"
      ]
     },
     "execution_count": 36,
     "metadata": {},
     "output_type": "execute_result"
    }
   ],
   "source": [
    "period_fhs=[]\n",
    "for in_fh in input_fhs:\n",
    "    # احصل على معرف نقطي من اسم الملف\n",
    "    raster_id=os.path.split(in_fh)[-1].split('.')[0]\n",
    "    # الحصول على معلومات نقطية باستخدام معرف البيانات النقطية\n",
    "    raster_info=df_avail.loc[df_avail['raster_id']==raster_id]    \n",
    "    # الحصول على سلسلة زمنية\n",
    "    startstr=raster_info['start_dekad'].iloc[0]\n",
    "    endstr=raster_info['end_dekad'].iloc[0]\n",
    "    yearstr=raster_info.index[0]\n",
    "    # الحصول على تاريخ البدء والانتهاء من البيانات النقطية\n",
    "    raster_startdate=pd.Timestamp(int(yearstr),int(startstr[0:2]),int(startstr[2:4]),0)\n",
    "    raster_enddate=pd.Timestamp(int(yearstr),int(endstr[0:2]),int(endstr[2:4]),0)\n",
    "    # تحقق مما إذا كانت البيانات النقطية تنتمي إلى فترة\n",
    "    if ((raster_startdate in period_dates) or (raster_enddate in period_dates)):\n",
    "        period_fhs.append(in_fh)   \n",
    "period_fhs"
   ]
  },
  {
   "cell_type": "markdown",
   "metadata": {},
   "source": [
    "<div dir=\"rtl\">\n",
    "جمع كل مجموعات البيانات النقطية في فترة لتجميع بيانات الفترة.    \n",
    "</div>"
   ]
  },
  {
   "cell_type": "code",
   "execution_count": 37,
   "metadata": {},
   "outputs": [],
   "source": [
    "driver, NDV, xsize, ysize, GeoT, Projection=GetGeoInfo(period_fhs[0])\n",
    "SumArray=np.zeros((ysize,xsize))\n",
    "for fh in period_fhs:\n",
    "    Array=OpenAsArray(fh,nan_values=True)\n",
    "    SumArray+=Array\n",
    "out_fh=os.path.join(f'.\\data\\L2_AETI_{start_period}_{end_period}.tif')\n",
    "CreateGeoTiff(out_fh, SumArray, driver, NDV, xsize, ysize, GeoT, Projection)"
   ]
  },
  {
   "cell_type": "markdown",
   "metadata": {},
   "source": [
    "## Step 5. Warp raster data\n",
    "\n",
    "<div dir=\"rtl\">\n",
    "الخطوة 5. اعوجاج البيانات النقطية\n",
    "</div>\n",
    "\n",
    "<div dir=\"rtl\">\n",
    "  تأتي البيانات المكانية بأحجام ودقة مختلفة ونظام مرجعي مكاني مختلف. على سبيل المثال ، عند فتحها كمصفوفة ، يختلف حجم خرائط الترسيب والبخرنتح الفعلي والاعتراض. يوجد أدناه حجم طبقة خطوط هطول الأمطار.     \n",
    "</div>\n"
   ]
  },
  {
   "cell_type": "code",
   "execution_count": 38,
   "metadata": {},
   "outputs": [
    {
     "name": "stdout",
     "output_type": "stream",
     "text": [
      "(90, 107)\n"
     ]
    },
    {
     "data": {
      "image/png": "[encoded data removed]",
      "text/plain": [
       "<Figure size 432x288 with 2 Axes>"
      ]
     },
     "metadata": {
      "needs_background": "light"
     },
     "output_type": "display_data"
    }
   ],
   "source": [
    "P_fh=r\".\\data\\L1_PCP_E_cropped\\L1_PCP_090101.tif\"\n",
    "P=OpenAsArray(P_fh,nan_values=True)\n",
    "print(P.shape)\n",
    "plt.imshow(P)\n",
    "plt.colorbar()\n",
    "plt.show()"
   ]
  },
  {
   "cell_type": "markdown",
   "metadata": {},
   "source": [
    "<div dir=\"rtl\">\n",
    "ويوجد أسفل هذه الخلية حجم طبقة AETI النقطية    \n",
    "</div>"
   ]
  },
  {
   "cell_type": "code",
   "execution_count": 39,
   "metadata": {},
   "outputs": [
    {
     "name": "stdout",
     "output_type": "stream",
     "text": [
      "(4529, 5406)\n"
     ]
    },
    {
     "data": {
      "image/png": "[encoded data removed]",
      "text/plain": [
       "<Figure size 432x288 with 2 Axes>"
      ]
     },
     "metadata": {
      "needs_background": "light"
     },
     "output_type": "display_data"
    }
   ],
   "source": [
    "ET_fh=r\".\\data\\L2_AETI_M\\AETI_200901.tif\"\n",
    "ET=OpenAsArray(ET_fh,nan_values=True)\n",
    "print(ET.shape)\n",
    "plt.imshow(ET)\n",
    "plt.colorbar()\n",
    "plt.show()"
   ]
  },
  {
   "cell_type": "markdown",
   "metadata": {},
   "source": [
    "<div dir=\"rtl\">\n",
    "كما نرى ، فإن بيانات هطول الأمطار لها دقة أقل (0.5 درجة) ، وبالتالي حجم مصفوفة أصغر (90 × 107) من بيانات AETI (100 متر و 4529 × 5406). بالنسبة لهاتين النقطتين في نفس الحساب ، يجب تحويلهما إلى نفس الحجم والدقة والإسقاط. هنا ، نستخدم خريطة استخدام الأراضي كقالب لتشويه هذه البيانات في نفس النموذج.\n",
    "</div>\n",
    "\n",
    "<div dir=\"rtl\">\n",
    "يمكن القيام بذلك باستخدام دالة gdal.Warp ووظيفة فسيفساء للصورة وإعادة إسقاط وتزييف. يتم استخدام gdal.Warp لتشويه البيانات النقطية المحددة لحجم البيانات المحددة مسبقًا والمدى المكاني ، وإعادة إسقاطها إلى نظام الإسناد المكاني المحدد مسبقًا. الى gdal. قم بلف ملف نقطي لمطابقة الإسقاط والحجم والمدى مع ملف نقطي آخر ، يجب الحصول على معلومات الملف الهدف أولاً. الوظيفة التالية هي الحصول على قيمة nodata ونظام الإسناد المكاني وحجم البيانات والمدى المكاني لملف نقطي باستخدام حزمة gdal.\n",
    "</div>\n",
    "\n",
    "<div dir=\"rtl\">\n",
    "على سبيل المثال ، هنا الملف النقطي لخريطة AETI هو الملف الهدف. نريد مطابقة الإسقاط والحجم ومدى الملف المصدر، وهو هطول الأمطار، مع الملف الهدف.    \n",
    "</div>"
   ]
  },
  {
   "cell_type": "code",
   "execution_count": 41,
   "metadata": {},
   "outputs": [
    {
     "name": "stdout",
     "output_type": "stream",
     "text": [
      "Source info:  {'description': '.\\\\data\\\\L1_PCP_E_cropped\\\\L1_PCP_090101.tif', 'driverShortName': 'GTiff', 'driverLongName': 'GeoTIFF', 'files': ['.\\\\data\\\\L1_PCP_E_cropped\\\\L1_PCP_090101.tif'], 'size': [107, 90], 'coordinateSystem': {'wkt': 'GEOGCS[\"WGS 84\",\\n    DATUM[\"WGS_1984\",\\n        SPHEROID[\"WGS 84\",6378137,298.257223563,\\n            AUTHORITY[\"EPSG\",\"7030\"]],\\n        AUTHORITY[\"EPSG\",\"6326\"]],\\n    PRIMEM[\"Greenwich\",0],\\n    UNIT[\"degree\",0.0174532925199433],\\n    AUTHORITY[\"EPSG\",\"4326\"]]'}, 'geoTransform': [37.95000000000002, 0.05, 0.0, 12.4, 0.0, -0.05], 'metadata': {'': {'AREA_OR_POINT': 'Area'}, 'IMAGE_STRUCTURE': {'INTERLEAVE': 'BAND'}}, 'cornerCoordinates': {'upperLeft': [37.95, 12.4], 'lowerLeft': [37.95, 7.9], 'lowerRight': [43.3, 7.9], 'upperRight': [43.3, 12.4], 'center': [40.625, 10.15]}, 'wgs84Extent': {'type': 'Polygon', 'coordinates': [[[37.95, 12.4], [37.95, 7.9], [43.3, 7.9], [43.3, 12.4], [37.95, 12.4]]]}, 'bands': [{'band': 1, 'block': [107, 19], 'type': 'Float32', 'colorInterpretation': 'Gray', 'noDataValue': -9999.0, 'metadata': {}}]} \n",
      "\n",
      "Target info:  {'description': '.\\\\data\\\\L2_AETI_M\\\\AETI_200901.tif', 'driverShortName': 'GTiff', 'driverLongName': 'GeoTIFF', 'files': ['.\\\\data\\\\L2_AETI_M\\\\AETI_200901.tif'], 'size': [5406, 4529], 'coordinateSystem': {'wkt': 'GEOGCS[\"WGS 84\",\\n    DATUM[\"WGS_1984\",\\n        SPHEROID[\"WGS 84\",6378137,298.257223563,\\n            AUTHORITY[\"EPSG\",\"7030\"]],\\n        AUTHORITY[\"EPSG\",\"6326\"]],\\n    PRIMEM[\"Greenwich\",0],\\n    UNIT[\"degree\",0.0174532925199433],\\n    AUTHORITY[\"EPSG\",\"4326\"]]'}, 'geoTransform': [37.957837282836, 0.000992063492, 0.0, 12.3883928732, 0.0, -0.000992063492], 'metadata': {'': {'AREA_OR_POINT': 'Area'}, 'IMAGE_STRUCTURE': {'INTERLEAVE': 'BAND'}}, 'cornerCoordinates': {'upperLeft': [37.9578373, 12.3883929], 'lowerLeft': [37.9578373, 7.8953373], 'lowerRight': [43.3209325, 7.8953373], 'upperRight': [43.3209325, 12.3883929], 'center': [40.6393849, 10.1418651]}, 'wgs84Extent': {'type': 'Polygon', 'coordinates': [[[37.9578373, 12.3883929], [37.9578373, 7.8953373], [43.3209325, 7.8953373], [43.3209325, 12.3883929], [37.9578373, 12.3883929]]]}, 'bands': [{'band': 1, 'block': [5406, 1], 'type': 'Float64', 'colorInterpretation': 'Gray', 'noDataValue': -9999.0, 'metadata': {}}]}\n"
     ]
    }
   ],
   "source": [
    "src_info=gdal.Info(gdal.Open(P_fh),format='json')\n",
    "dst_info=gdal.Info(gdal.Open(ET_fh),format='json')\n",
    "\n",
    "print('Source info: ',src_info,'\\n')\n",
    "\n",
    "print('Target info: ',dst_info)"
   ]
  },
  {
   "cell_type": "markdown",
   "metadata": {},
   "source": [
    "<div dir=\"rtl\">\n",
    "بعد الحصول على src_info من المصدر ومعلومات الهدف dst_info ، يمكننا إملاء هذه المعلومات إلى gdal.Warp على النحو التالي. إذا كان gdal. انتهى من وظيفة الالتفاف بنجاح، ستقوم بإرجاع كائن osgeo.gdal.Dataset وسيتم حفظ الملف النقطي الناتج في مجلد الإخراج (data/L1_PCP_E_warped)    \n",
    "</div>\n",
    "\n",
    "[مجلد الإخراج](data/L1_PCP_E_warped)"
   ]
  },
  {
   "cell_type": "code",
   "execution_count": 42,
   "metadata": {},
   "outputs": [
    {
     "data": {
      "text/plain": [
       "<osgeo.gdal.Dataset; proxy of <Swig Object of type 'GDALDatasetShadow *' at 0x00000227C009E690> >"
      ]
     },
     "execution_count": 42,
     "metadata": {},
     "output_type": "execute_result"
    }
   ],
   "source": [
    "source_file=P_fh\n",
    "output_folder=r'.\\data\\L1_PCP_E_warped'\n",
    "if not os.path.exists(output_folder): # إنشاء output_folder إذا لم يكن موجودًا\n",
    "    os.makedirs(output_folder)\n",
    "    \n",
    "filename=os.path.basename(source_file) # الحصول على اسم الملف من مسار ملف المصدر\n",
    "output_file=os.path.join(output_folder,filename) # إنشاء مسار ملف الإخراج\n",
    "\n",
    "gdal.Warp(output_file,P_fh,format='GTiff',\n",
    "              srcSRS=src_info['coordinateSystem']['wkt'],\n",
    "              dstSRS=dst_info['coordinateSystem']['wkt'],\n",
    "              srcNodata=src_info['bands'][0]['noDataValue'],\n",
    "              dstNodata=dst_info['bands'][0]['noDataValue'],\n",
    "              width=dst_info['size'][0],\n",
    "              height=dst_info['size'][1],\n",
    "              outputBounds=(dst_info['cornerCoordinates']['lowerLeft'][0],\n",
    "                            dst_info['cornerCoordinates']['lowerLeft'][1],\n",
    "                            dst_info['cornerCoordinates']['upperRight'][0],\n",
    "                            dst_info['cornerCoordinates']['upperRight'][1]),\n",
    "              outputBoundsSRS=dst_info['coordinateSystem']['wkt'],\n",
    "              resampleAlg='near')"
   ]
  },
  {
   "cell_type": "markdown",
   "metadata": {},
   "source": [
    "<div dir=\"rtl\">\n",
    "\n",
    "### التمرين 3\n",
    "    \n",
    "</div>\n",
    "\n",
    "<div dir=\"rtl\">\n",
    "قم بعمل وظيفة معرّفة من قبل المستخدم لتحويل أي ملف نقطي بنقطية معينة. استخدم هذه الوظيفة لمطابقة الإسقاط والحجم ومدى كل هطول الأمطار مع بيانات ET. \n",
    "</div>\n"
   ]
  },
  {
   "cell_type": "code",
   "execution_count": null,
   "metadata": {},
   "outputs": [],
   "source": [
    "def MatchProjResNDV(source_file, target_fhs, output_dir, resample = 'near', \n",
    "                    dtype = 'float32', scale = None, ndv_to_zero = False):\n",
    "    \"\"\"\n",
    "    تعمل هذه الوظيفة على تحويل جميع الملفات النقطية في قائمة بنفس الحجم،\n",
    "    الدقة والإسقاط بملف مصدر نقطي.\n",
    "    \"\"\"\n",
    "    '''\n",
    "    اكتب رمزك هنا ''\n",
    "    '''\n",
    "    return output_files\n",
    "\n",
    "input_folder=r\".\\data\\L1_PCP_E_cropped\"\n",
    "input_fhs=sorted(glob.glob(os.path.join(input_folder,'*.tif')))\n",
    "output_folder=r'.\\data\\L1_PCP_E_warped'\n",
    "MatchProjResNDV(ET_fh, input_fhs, output_folder)"
   ]
  },
  {
   "cell_type": "markdown",
   "metadata": {},
   "source": [
    "## Step 6. Clip to Shapefile cutline\n",
    "\n",
    "<div dir=\"rtl\">\n",
    "الخطوة 6. القص إلى حدود ملف الشكل\n",
    "</div>\n",
    "\n",
    "<div dir=\"rtl\">\n",
    "الخطوة 1 تقوم فقط بقص البيانات النقطية في المربع المحيط. عندما نحتاج إلى استبعاد وحدات البكسل خارج منطقة الاهتمام ، على سبيل المثال ، في حالة الحوض الهيدرولوجي أو كتلة الري ، يمكننا استخدام gdal.Warp مع خيار القطع لقص خطوط المسح إلى حدود المضلع لملف الشكل. انظر المثال أدناه       \n",
    "</div>"
   ]
  },
  {
   "cell_type": "code",
   "execution_count": 44,
   "metadata": {},
   "outputs": [],
   "source": [
    "input_fh=r\".\\data\\L1_PCP_E_warped\\L1_PCP_090101.tif\" # المسار إلى البيانات النقطية المراد قصها\n",
    "shp_fh=r\".\\data\\Awash_shapefile.shp\" # المسار إلى ملف الشكل الذي يحتوي على مضلع المنطقة محل الاهتمام\n",
    "\n",
    "output_folder=r'.\\data\\L1_PCP_E_clipped'# مسار لمجلد الإخراج\n",
    "if not os.path.exists(output_folder): # إنشاء output_folder إذا لم يكن موجودًا\n",
    "    os.makedirs(output_folder)\n",
    "    \n",
    "filename=os.path.basename(source_file) # الحصول على اسم الملف من مسار ملف المصدر\n",
    "output_fh=os.path.join(output_folder,filename) # إنشاء مسار ملف الإخراج"
   ]
  },
  {
   "cell_type": "markdown",
   "metadata": {},
   "source": [
    "<div dir=\"rtl\">\n",
    "بعد تحديد الملف النقطي للإدخال والإخراج ومسارات ملف الأشكال ، يمكننا استخدام وظيفة مكتبة ogr لقراءة مجموعة بيانات الشكل ككائن gdal للحصول على اسم الطبقة. بعد ذلك ، استخدم مسار ملف الشكل والطبقة كوسائط خيارات لوظيفة gdal.Warp. تحقق من ملف الإخراج في مجلد الإخراج (data/L1_PCP_E_clipped)    \n",
    "</div>\n",
    "\n",
    "[مجلد الإخراج](data/L1_PCP_E_clipped)"
   ]
  },
  {
   "cell_type": "code",
   "execution_count": 45,
   "metadata": {},
   "outputs": [],
   "source": [
    "inDriver = ogr.GetDriverByName(\"ESRI Shapefile\")\n",
    "inDataSource = inDriver.Open(shp_fh, 1) # قراءة ملف الشكل كمجموعة بيانات gdal\n",
    "inLayer = inDataSource.GetLayer()    \n",
    "options = gdal.WarpOptions(cutlineDSName = shp_fh,\n",
    "                           cutlineLayer = inLayer.GetName(),\n",
    "                           cropToCutline = True, \n",
    "                           dstNodata=NDV\n",
    "                           )\n",
    "sourceds = gdal.Warp(output_fh, input_fh, options = options)"
   ]
  },
  {
   "cell_type": "markdown",
   "metadata": {},
   "source": [
    "<div dir=\"rtl\">\n",
    "يوجد أدناه قيمة إدخال البيانات النقطية قبل القطع    \n",
    "</div>"
   ]
  },
  {
   "cell_type": "code",
   "execution_count": 50,
   "metadata": {},
   "outputs": [
    {
     "data": {
      "image/png": "[encoded data removed]",
      "text/plain": [
       "<Figure size 432x288 with 2 Axes>"
      ]
     },
     "metadata": {
      "needs_background": "light"
     },
     "output_type": "display_data"
    }
   ],
   "source": [
    "input_array=OpenAsArray(input_fh,nan_values=True)\n",
    "plt.imshow(input_array)\n",
    "plt.colorbar()\n",
    "plt.show()"
   ]
  },
  {
   "cell_type": "markdown",
   "metadata": {},
   "source": [
    "<div dir=\"rtl\">\n",
    "وأدناه هي قيمة الناتج النقطي بعد القطع.    \n",
    "</div>"
   ]
  },
  {
   "cell_type": "code",
   "execution_count": 51,
   "metadata": {},
   "outputs": [
    {
     "data": {
      "image/png": "[encoded data removed]",
      "text/plain": [
       "<Figure size 432x288 with 2 Axes>"
      ]
     },
     "metadata": {
      "needs_background": "light"
     },
     "output_type": "display_data"
    }
   ],
   "source": [
    "output_array=OpenAsArray(output_fh,nan_values=True)\n",
    "plt.imshow(output_array)\n",
    "plt.colorbar()\n",
    "plt.show()"
   ]
  },
  {
   "cell_type": "markdown",
   "metadata": {},
   "source": [
    "<div dir=\"rtl\">\n",
    "على غرار الخطوة 5 ، يمكننا تحديد وظيفة جديدة وتطبيقها على جميع الملفات المراد قصها.    \n",
    "</div>"
   ]
  },
  {
   "cell_type": "code",
   "execution_count": 52,
   "metadata": {},
   "outputs": [],
   "source": [
    "def CliptoShp(input_fhs,output_folder,shp_fh,NDV=-9999):\n",
    "    \"\"\"\n",
    "    قص خطوط المسح إلى خط الحدود لملف الشكل\n",
    "    \n",
    "    المعلمات\n",
    "    ----------\n",
    "    input_fhs : list\n",
    "        قائمة ملفات الإدخال النقطية\n",
    "    output_folder : str\n",
    "        المسار إلى المجلد حيث يتم حفظ البيانات النقطية للإخراج\n",
    "    shp_fh : str\n",
    "        مجلد لتخزين الإخراج.\n",
    "    NDV : float or int, optional\n",
    "        لا توجد قيمة بيانات للمخرجات النقطية\n",
    "        \n",
    "    عائدات\n",
    "    -------\n",
    "    output_fhs : list \n",
    "        مقابض الملفات للملفات التي تم إنشاؤها.\n",
    "    \"\"\"\n",
    "    inDriver = ogr.GetDriverByName(\"ESRI Shapefile\")\n",
    "    inDataSource = inDriver.Open(shp_fh, 1)\n",
    "    inLayer = inDataSource.GetLayer()    \n",
    "    options = gdal.WarpOptions(cutlineDSName = shp_fh,\n",
    "                               cutlineLayer = inLayer.GetName(),\n",
    "                               cropToCutline = True, \n",
    "                               dstNodata=NDV\n",
    "                               )\n",
    "    output_fhs=[]\n",
    "    for input_fh in input_fhs:\n",
    "        output_fh=os.path.join(output_folder,os.path.basename(input_fh))\n",
    "        sourceds = gdal.Warp(output_fh, input_fh, options = options)\n",
    "        output_fhs.append(output_fh)\n",
    "    return output_fhs"
   ]
  },
  {
   "cell_type": "markdown",
   "metadata": {},
   "source": [
    "<div dir=\"rtl\">\n",
    "باستخدام وظيفة CliptoShp المحددة ، يمكن قص جميع الملفات النقطية في مجلد الإدخال (data\\L1_PCP_E_warped) إلى حد المضلع لملف الشكل. سيتم حفظ ملفات الإخراج في مجلد الإخراج (data\\L1_PCP_E_clipped).    \n",
    "</div>\n",
    "\n",
    "[مجلد الإدخال](data\\L1_PCP_E_warped) \n",
    "\n",
    "[مجلد الإخراج](data\\L1_PCP_E_clipped)\n"
   ]
  },
  {
   "cell_type": "code",
   "execution_count": 53,
   "metadata": {},
   "outputs": [
    {
     "data": {
      "text/plain": [
       "['.\\\\data\\\\L1_PCP_E_clipped\\\\L1_PCP_090101.tif',\n",
       " '.\\\\data\\\\L1_PCP_E_clipped\\\\L1_PCP_090102.tif',\n",
       " '.\\\\data\\\\L1_PCP_E_clipped\\\\L1_PCP_090103.tif',\n",
       " '.\\\\data\\\\L1_PCP_E_clipped\\\\L1_PCP_090104.tif',\n",
       " '.\\\\data\\\\L1_PCP_E_clipped\\\\L1_PCP_090105.tif',\n",
       " '.\\\\data\\\\L1_PCP_E_clipped\\\\L1_PCP_090106.tif',\n",
       " '.\\\\data\\\\L1_PCP_E_clipped\\\\L1_PCP_090107.tif',\n",
       " '.\\\\data\\\\L1_PCP_E_clipped\\\\L1_PCP_090108.tif',\n",
       " '.\\\\data\\\\L1_PCP_E_clipped\\\\L1_PCP_090109.tif',\n",
       " '.\\\\data\\\\L1_PCP_E_clipped\\\\L1_PCP_090110.tif',\n",
       " '.\\\\data\\\\L1_PCP_E_clipped\\\\L1_PCP_090111.tif',\n",
       " '.\\\\data\\\\L1_PCP_E_clipped\\\\L1_PCP_090112.tif',\n",
       " '.\\\\data\\\\L1_PCP_E_clipped\\\\L1_PCP_090113.tif',\n",
       " '.\\\\data\\\\L1_PCP_E_clipped\\\\L1_PCP_090114.tif',\n",
       " '.\\\\data\\\\L1_PCP_E_clipped\\\\L1_PCP_090115.tif',\n",
       " '.\\\\data\\\\L1_PCP_E_clipped\\\\L1_PCP_090116.tif',\n",
       " '.\\\\data\\\\L1_PCP_E_clipped\\\\L1_PCP_090117.tif',\n",
       " '.\\\\data\\\\L1_PCP_E_clipped\\\\L1_PCP_090118.tif',\n",
       " '.\\\\data\\\\L1_PCP_E_clipped\\\\L1_PCP_090119.tif',\n",
       " '.\\\\data\\\\L1_PCP_E_clipped\\\\L1_PCP_090120.tif',\n",
       " '.\\\\data\\\\L1_PCP_E_clipped\\\\L1_PCP_090121.tif',\n",
       " '.\\\\data\\\\L1_PCP_E_clipped\\\\L1_PCP_090122.tif',\n",
       " '.\\\\data\\\\L1_PCP_E_clipped\\\\L1_PCP_090123.tif',\n",
       " '.\\\\data\\\\L1_PCP_E_clipped\\\\L1_PCP_090124.tif',\n",
       " '.\\\\data\\\\L1_PCP_E_clipped\\\\L1_PCP_090125.tif',\n",
       " '.\\\\data\\\\L1_PCP_E_clipped\\\\L1_PCP_090126.tif',\n",
       " '.\\\\data\\\\L1_PCP_E_clipped\\\\L1_PCP_090127.tif',\n",
       " '.\\\\data\\\\L1_PCP_E_clipped\\\\L1_PCP_090128.tif',\n",
       " '.\\\\data\\\\L1_PCP_E_clipped\\\\L1_PCP_090129.tif',\n",
       " '.\\\\data\\\\L1_PCP_E_clipped\\\\L1_PCP_090130.tif',\n",
       " '.\\\\data\\\\L1_PCP_E_clipped\\\\L1_PCP_090131.tif',\n",
       " '.\\\\data\\\\L1_PCP_E_clipped\\\\L1_PCP_090201.tif',\n",
       " '.\\\\data\\\\L1_PCP_E_clipped\\\\L1_PCP_090202.tif',\n",
       " '.\\\\data\\\\L1_PCP_E_clipped\\\\L1_PCP_090203.tif',\n",
       " '.\\\\data\\\\L1_PCP_E_clipped\\\\L1_PCP_090204.tif',\n",
       " '.\\\\data\\\\L1_PCP_E_clipped\\\\L1_PCP_090205.tif',\n",
       " '.\\\\data\\\\L1_PCP_E_clipped\\\\L1_PCP_090206.tif',\n",
       " '.\\\\data\\\\L1_PCP_E_clipped\\\\L1_PCP_090207.tif',\n",
       " '.\\\\data\\\\L1_PCP_E_clipped\\\\L1_PCP_090208.tif',\n",
       " '.\\\\data\\\\L1_PCP_E_clipped\\\\L1_PCP_090209.tif',\n",
       " '.\\\\data\\\\L1_PCP_E_clipped\\\\L1_PCP_090210.tif',\n",
       " '.\\\\data\\\\L1_PCP_E_clipped\\\\L1_PCP_090211.tif',\n",
       " '.\\\\data\\\\L1_PCP_E_clipped\\\\L1_PCP_090212.tif',\n",
       " '.\\\\data\\\\L1_PCP_E_clipped\\\\L1_PCP_090213.tif',\n",
       " '.\\\\data\\\\L1_PCP_E_clipped\\\\L1_PCP_090214.tif',\n",
       " '.\\\\data\\\\L1_PCP_E_clipped\\\\L1_PCP_090215.tif',\n",
       " '.\\\\data\\\\L1_PCP_E_clipped\\\\L1_PCP_090216.tif',\n",
       " '.\\\\data\\\\L1_PCP_E_clipped\\\\L1_PCP_090217.tif',\n",
       " '.\\\\data\\\\L1_PCP_E_clipped\\\\L1_PCP_090218.tif',\n",
       " '.\\\\data\\\\L1_PCP_E_clipped\\\\L1_PCP_090219.tif',\n",
       " '.\\\\data\\\\L1_PCP_E_clipped\\\\L1_PCP_090220.tif',\n",
       " '.\\\\data\\\\L1_PCP_E_clipped\\\\L1_PCP_090221.tif',\n",
       " '.\\\\data\\\\L1_PCP_E_clipped\\\\L1_PCP_090222.tif',\n",
       " '.\\\\data\\\\L1_PCP_E_clipped\\\\L1_PCP_090223.tif',\n",
       " '.\\\\data\\\\L1_PCP_E_clipped\\\\L1_PCP_090224.tif',\n",
       " '.\\\\data\\\\L1_PCP_E_clipped\\\\L1_PCP_090225.tif',\n",
       " '.\\\\data\\\\L1_PCP_E_clipped\\\\L1_PCP_090226.tif',\n",
       " '.\\\\data\\\\L1_PCP_E_clipped\\\\L1_PCP_090227.tif',\n",
       " '.\\\\data\\\\L1_PCP_E_clipped\\\\L1_PCP_090228.tif',\n",
       " '.\\\\data\\\\L1_PCP_E_clipped\\\\L1_PCP_090301.tif',\n",
       " '.\\\\data\\\\L1_PCP_E_clipped\\\\L1_PCP_090302.tif',\n",
       " '.\\\\data\\\\L1_PCP_E_clipped\\\\L1_PCP_090303.tif',\n",
       " '.\\\\data\\\\L1_PCP_E_clipped\\\\L1_PCP_090304.tif',\n",
       " '.\\\\data\\\\L1_PCP_E_clipped\\\\L1_PCP_090305.tif',\n",
       " '.\\\\data\\\\L1_PCP_E_clipped\\\\L1_PCP_090306.tif',\n",
       " '.\\\\data\\\\L1_PCP_E_clipped\\\\L1_PCP_090307.tif',\n",
       " '.\\\\data\\\\L1_PCP_E_clipped\\\\L1_PCP_090308.tif',\n",
       " '.\\\\data\\\\L1_PCP_E_clipped\\\\L1_PCP_090309.tif',\n",
       " '.\\\\data\\\\L1_PCP_E_clipped\\\\L1_PCP_090310.tif',\n",
       " '.\\\\data\\\\L1_PCP_E_clipped\\\\L1_PCP_090311.tif',\n",
       " '.\\\\data\\\\L1_PCP_E_clipped\\\\L1_PCP_090312.tif',\n",
       " '.\\\\data\\\\L1_PCP_E_clipped\\\\L1_PCP_090313.tif',\n",
       " '.\\\\data\\\\L1_PCP_E_clipped\\\\L1_PCP_090314.tif',\n",
       " '.\\\\data\\\\L1_PCP_E_clipped\\\\L1_PCP_090315.tif',\n",
       " '.\\\\data\\\\L1_PCP_E_clipped\\\\L1_PCP_090316.tif',\n",
       " '.\\\\data\\\\L1_PCP_E_clipped\\\\L1_PCP_090317.tif',\n",
       " '.\\\\data\\\\L1_PCP_E_clipped\\\\L1_PCP_090318.tif',\n",
       " '.\\\\data\\\\L1_PCP_E_clipped\\\\L1_PCP_090319.tif',\n",
       " '.\\\\data\\\\L1_PCP_E_clipped\\\\L1_PCP_090320.tif',\n",
       " '.\\\\data\\\\L1_PCP_E_clipped\\\\L1_PCP_090321.tif',\n",
       " '.\\\\data\\\\L1_PCP_E_clipped\\\\L1_PCP_090322.tif',\n",
       " '.\\\\data\\\\L1_PCP_E_clipped\\\\L1_PCP_090323.tif',\n",
       " '.\\\\data\\\\L1_PCP_E_clipped\\\\L1_PCP_090324.tif',\n",
       " '.\\\\data\\\\L1_PCP_E_clipped\\\\L1_PCP_090325.tif',\n",
       " '.\\\\data\\\\L1_PCP_E_clipped\\\\L1_PCP_090326.tif',\n",
       " '.\\\\data\\\\L1_PCP_E_clipped\\\\L1_PCP_090327.tif',\n",
       " '.\\\\data\\\\L1_PCP_E_clipped\\\\L1_PCP_090328.tif',\n",
       " '.\\\\data\\\\L1_PCP_E_clipped\\\\L1_PCP_090329.tif',\n",
       " '.\\\\data\\\\L1_PCP_E_clipped\\\\L1_PCP_090330.tif',\n",
       " '.\\\\data\\\\L1_PCP_E_clipped\\\\L1_PCP_090331.tif',\n",
       " '.\\\\data\\\\L1_PCP_E_clipped\\\\L1_PCP_090401.tif',\n",
       " '.\\\\data\\\\L1_PCP_E_clipped\\\\L1_PCP_090402.tif',\n",
       " '.\\\\data\\\\L1_PCP_E_clipped\\\\L1_PCP_090403.tif',\n",
       " '.\\\\data\\\\L1_PCP_E_clipped\\\\L1_PCP_090404.tif',\n",
       " '.\\\\data\\\\L1_PCP_E_clipped\\\\L1_PCP_090405.tif',\n",
       " '.\\\\data\\\\L1_PCP_E_clipped\\\\L1_PCP_090406.tif',\n",
       " '.\\\\data\\\\L1_PCP_E_clipped\\\\L1_PCP_090407.tif',\n",
       " '.\\\\data\\\\L1_PCP_E_clipped\\\\L1_PCP_090408.tif',\n",
       " '.\\\\data\\\\L1_PCP_E_clipped\\\\L1_PCP_090409.tif',\n",
       " '.\\\\data\\\\L1_PCP_E_clipped\\\\L1_PCP_090410.tif',\n",
       " '.\\\\data\\\\L1_PCP_E_clipped\\\\L1_PCP_090411.tif',\n",
       " '.\\\\data\\\\L1_PCP_E_clipped\\\\L1_PCP_090412.tif',\n",
       " '.\\\\data\\\\L1_PCP_E_clipped\\\\L1_PCP_090413.tif',\n",
       " '.\\\\data\\\\L1_PCP_E_clipped\\\\L1_PCP_090414.tif',\n",
       " '.\\\\data\\\\L1_PCP_E_clipped\\\\L1_PCP_090415.tif',\n",
       " '.\\\\data\\\\L1_PCP_E_clipped\\\\L1_PCP_090416.tif',\n",
       " '.\\\\data\\\\L1_PCP_E_clipped\\\\L1_PCP_090417.tif',\n",
       " '.\\\\data\\\\L1_PCP_E_clipped\\\\L1_PCP_090418.tif',\n",
       " '.\\\\data\\\\L1_PCP_E_clipped\\\\L1_PCP_090419.tif',\n",
       " '.\\\\data\\\\L1_PCP_E_clipped\\\\L1_PCP_090420.tif',\n",
       " '.\\\\data\\\\L1_PCP_E_clipped\\\\L1_PCP_090421.tif',\n",
       " '.\\\\data\\\\L1_PCP_E_clipped\\\\L1_PCP_090422.tif',\n",
       " '.\\\\data\\\\L1_PCP_E_clipped\\\\L1_PCP_090423.tif',\n",
       " '.\\\\data\\\\L1_PCP_E_clipped\\\\L1_PCP_090424.tif',\n",
       " '.\\\\data\\\\L1_PCP_E_clipped\\\\L1_PCP_090425.tif',\n",
       " '.\\\\data\\\\L1_PCP_E_clipped\\\\L1_PCP_090426.tif',\n",
       " '.\\\\data\\\\L1_PCP_E_clipped\\\\L1_PCP_090427.tif',\n",
       " '.\\\\data\\\\L1_PCP_E_clipped\\\\L1_PCP_090428.tif',\n",
       " '.\\\\data\\\\L1_PCP_E_clipped\\\\L1_PCP_090429.tif',\n",
       " '.\\\\data\\\\L1_PCP_E_clipped\\\\L1_PCP_090430.tif',\n",
       " '.\\\\data\\\\L1_PCP_E_clipped\\\\L1_PCP_090501.tif',\n",
       " '.\\\\data\\\\L1_PCP_E_clipped\\\\L1_PCP_090502.tif',\n",
       " '.\\\\data\\\\L1_PCP_E_clipped\\\\L1_PCP_090503.tif',\n",
       " '.\\\\data\\\\L1_PCP_E_clipped\\\\L1_PCP_090504.tif',\n",
       " '.\\\\data\\\\L1_PCP_E_clipped\\\\L1_PCP_090505.tif',\n",
       " '.\\\\data\\\\L1_PCP_E_clipped\\\\L1_PCP_090506.tif',\n",
       " '.\\\\data\\\\L1_PCP_E_clipped\\\\L1_PCP_090507.tif',\n",
       " '.\\\\data\\\\L1_PCP_E_clipped\\\\L1_PCP_090508.tif',\n",
       " '.\\\\data\\\\L1_PCP_E_clipped\\\\L1_PCP_090509.tif',\n",
       " '.\\\\data\\\\L1_PCP_E_clipped\\\\L1_PCP_090510.tif',\n",
       " '.\\\\data\\\\L1_PCP_E_clipped\\\\L1_PCP_090511.tif',\n",
       " '.\\\\data\\\\L1_PCP_E_clipped\\\\L1_PCP_090512.tif',\n",
       " '.\\\\data\\\\L1_PCP_E_clipped\\\\L1_PCP_090513.tif',\n",
       " '.\\\\data\\\\L1_PCP_E_clipped\\\\L1_PCP_090514.tif',\n",
       " '.\\\\data\\\\L1_PCP_E_clipped\\\\L1_PCP_090515.tif',\n",
       " '.\\\\data\\\\L1_PCP_E_clipped\\\\L1_PCP_090516.tif',\n",
       " '.\\\\data\\\\L1_PCP_E_clipped\\\\L1_PCP_090517.tif',\n",
       " '.\\\\data\\\\L1_PCP_E_clipped\\\\L1_PCP_090518.tif',\n",
       " '.\\\\data\\\\L1_PCP_E_clipped\\\\L1_PCP_090519.tif',\n",
       " '.\\\\data\\\\L1_PCP_E_clipped\\\\L1_PCP_090520.tif',\n",
       " '.\\\\data\\\\L1_PCP_E_clipped\\\\L1_PCP_090521.tif',\n",
       " '.\\\\data\\\\L1_PCP_E_clipped\\\\L1_PCP_090522.tif',\n",
       " '.\\\\data\\\\L1_PCP_E_clipped\\\\L1_PCP_090523.tif',\n",
       " '.\\\\data\\\\L1_PCP_E_clipped\\\\L1_PCP_090524.tif',\n",
       " '.\\\\data\\\\L1_PCP_E_clipped\\\\L1_PCP_090525.tif',\n",
       " '.\\\\data\\\\L1_PCP_E_clipped\\\\L1_PCP_090526.tif',\n",
       " '.\\\\data\\\\L1_PCP_E_clipped\\\\L1_PCP_090527.tif',\n",
       " '.\\\\data\\\\L1_PCP_E_clipped\\\\L1_PCP_090528.tif',\n",
       " '.\\\\data\\\\L1_PCP_E_clipped\\\\L1_PCP_090529.tif',\n",
       " '.\\\\data\\\\L1_PCP_E_clipped\\\\L1_PCP_090530.tif',\n",
       " '.\\\\data\\\\L1_PCP_E_clipped\\\\L1_PCP_090531.tif',\n",
       " '.\\\\data\\\\L1_PCP_E_clipped\\\\L1_PCP_090601.tif',\n",
       " '.\\\\data\\\\L1_PCP_E_clipped\\\\L1_PCP_090602.tif',\n",
       " '.\\\\data\\\\L1_PCP_E_clipped\\\\L1_PCP_090603.tif',\n",
       " '.\\\\data\\\\L1_PCP_E_clipped\\\\L1_PCP_090604.tif',\n",
       " '.\\\\data\\\\L1_PCP_E_clipped\\\\L1_PCP_090605.tif',\n",
       " '.\\\\data\\\\L1_PCP_E_clipped\\\\L1_PCP_090606.tif',\n",
       " '.\\\\data\\\\L1_PCP_E_clipped\\\\L1_PCP_090607.tif',\n",
       " '.\\\\data\\\\L1_PCP_E_clipped\\\\L1_PCP_090608.tif',\n",
       " '.\\\\data\\\\L1_PCP_E_clipped\\\\L1_PCP_090609.tif',\n",
       " '.\\\\data\\\\L1_PCP_E_clipped\\\\L1_PCP_090610.tif',\n",
       " '.\\\\data\\\\L1_PCP_E_clipped\\\\L1_PCP_090611.tif',\n",
       " '.\\\\data\\\\L1_PCP_E_clipped\\\\L1_PCP_090612.tif',\n",
       " '.\\\\data\\\\L1_PCP_E_clipped\\\\L1_PCP_090613.tif',\n",
       " '.\\\\data\\\\L1_PCP_E_clipped\\\\L1_PCP_090614.tif',\n",
       " '.\\\\data\\\\L1_PCP_E_clipped\\\\L1_PCP_090615.tif',\n",
       " '.\\\\data\\\\L1_PCP_E_clipped\\\\L1_PCP_090616.tif',\n",
       " '.\\\\data\\\\L1_PCP_E_clipped\\\\L1_PCP_090617.tif',\n",
       " '.\\\\data\\\\L1_PCP_E_clipped\\\\L1_PCP_090618.tif',\n",
       " '.\\\\data\\\\L1_PCP_E_clipped\\\\L1_PCP_090619.tif',\n",
       " '.\\\\data\\\\L1_PCP_E_clipped\\\\L1_PCP_090620.tif',\n",
       " '.\\\\data\\\\L1_PCP_E_clipped\\\\L1_PCP_090621.tif',\n",
       " '.\\\\data\\\\L1_PCP_E_clipped\\\\L1_PCP_090622.tif',\n",
       " '.\\\\data\\\\L1_PCP_E_clipped\\\\L1_PCP_090623.tif',\n",
       " '.\\\\data\\\\L1_PCP_E_clipped\\\\L1_PCP_090624.tif',\n",
       " '.\\\\data\\\\L1_PCP_E_clipped\\\\L1_PCP_090625.tif',\n",
       " '.\\\\data\\\\L1_PCP_E_clipped\\\\L1_PCP_090626.tif',\n",
       " '.\\\\data\\\\L1_PCP_E_clipped\\\\L1_PCP_090627.tif',\n",
       " '.\\\\data\\\\L1_PCP_E_clipped\\\\L1_PCP_090628.tif',\n",
       " '.\\\\data\\\\L1_PCP_E_clipped\\\\L1_PCP_090629.tif',\n",
       " '.\\\\data\\\\L1_PCP_E_clipped\\\\L1_PCP_090630.tif',\n",
       " '.\\\\data\\\\L1_PCP_E_clipped\\\\L1_PCP_090701.tif',\n",
       " '.\\\\data\\\\L1_PCP_E_clipped\\\\L1_PCP_090702.tif',\n",
       " '.\\\\data\\\\L1_PCP_E_clipped\\\\L1_PCP_090703.tif',\n",
       " '.\\\\data\\\\L1_PCP_E_clipped\\\\L1_PCP_090704.tif',\n",
       " '.\\\\data\\\\L1_PCP_E_clipped\\\\L1_PCP_090705.tif',\n",
       " '.\\\\data\\\\L1_PCP_E_clipped\\\\L1_PCP_090706.tif',\n",
       " '.\\\\data\\\\L1_PCP_E_clipped\\\\L1_PCP_090707.tif',\n",
       " '.\\\\data\\\\L1_PCP_E_clipped\\\\L1_PCP_090708.tif',\n",
       " '.\\\\data\\\\L1_PCP_E_clipped\\\\L1_PCP_090709.tif',\n",
       " '.\\\\data\\\\L1_PCP_E_clipped\\\\L1_PCP_090710.tif',\n",
       " '.\\\\data\\\\L1_PCP_E_clipped\\\\L1_PCP_090711.tif',\n",
       " '.\\\\data\\\\L1_PCP_E_clipped\\\\L1_PCP_090712.tif',\n",
       " '.\\\\data\\\\L1_PCP_E_clipped\\\\L1_PCP_090713.tif',\n",
       " '.\\\\data\\\\L1_PCP_E_clipped\\\\L1_PCP_090714.tif',\n",
       " '.\\\\data\\\\L1_PCP_E_clipped\\\\L1_PCP_090715.tif',\n",
       " '.\\\\data\\\\L1_PCP_E_clipped\\\\L1_PCP_090716.tif',\n",
       " '.\\\\data\\\\L1_PCP_E_clipped\\\\L1_PCP_090717.tif',\n",
       " '.\\\\data\\\\L1_PCP_E_clipped\\\\L1_PCP_090718.tif',\n",
       " '.\\\\data\\\\L1_PCP_E_clipped\\\\L1_PCP_090719.tif',\n",
       " '.\\\\data\\\\L1_PCP_E_clipped\\\\L1_PCP_090720.tif',\n",
       " '.\\\\data\\\\L1_PCP_E_clipped\\\\L1_PCP_090721.tif',\n",
       " '.\\\\data\\\\L1_PCP_E_clipped\\\\L1_PCP_090722.tif',\n",
       " '.\\\\data\\\\L1_PCP_E_clipped\\\\L1_PCP_090723.tif',\n",
       " '.\\\\data\\\\L1_PCP_E_clipped\\\\L1_PCP_090724.tif',\n",
       " '.\\\\data\\\\L1_PCP_E_clipped\\\\L1_PCP_090725.tif',\n",
       " '.\\\\data\\\\L1_PCP_E_clipped\\\\L1_PCP_090726.tif',\n",
       " '.\\\\data\\\\L1_PCP_E_clipped\\\\L1_PCP_090727.tif',\n",
       " '.\\\\data\\\\L1_PCP_E_clipped\\\\L1_PCP_090728.tif',\n",
       " '.\\\\data\\\\L1_PCP_E_clipped\\\\L1_PCP_090729.tif',\n",
       " '.\\\\data\\\\L1_PCP_E_clipped\\\\L1_PCP_090730.tif',\n",
       " '.\\\\data\\\\L1_PCP_E_clipped\\\\L1_PCP_090731.tif',\n",
       " '.\\\\data\\\\L1_PCP_E_clipped\\\\L1_PCP_090801.tif',\n",
       " '.\\\\data\\\\L1_PCP_E_clipped\\\\L1_PCP_090802.tif',\n",
       " '.\\\\data\\\\L1_PCP_E_clipped\\\\L1_PCP_090803.tif',\n",
       " '.\\\\data\\\\L1_PCP_E_clipped\\\\L1_PCP_090804.tif',\n",
       " '.\\\\data\\\\L1_PCP_E_clipped\\\\L1_PCP_090805.tif',\n",
       " '.\\\\data\\\\L1_PCP_E_clipped\\\\L1_PCP_090806.tif',\n",
       " '.\\\\data\\\\L1_PCP_E_clipped\\\\L1_PCP_090807.tif',\n",
       " '.\\\\data\\\\L1_PCP_E_clipped\\\\L1_PCP_090808.tif',\n",
       " '.\\\\data\\\\L1_PCP_E_clipped\\\\L1_PCP_090809.tif',\n",
       " '.\\\\data\\\\L1_PCP_E_clipped\\\\L1_PCP_090810.tif',\n",
       " '.\\\\data\\\\L1_PCP_E_clipped\\\\L1_PCP_090811.tif',\n",
       " '.\\\\data\\\\L1_PCP_E_clipped\\\\L1_PCP_090812.tif',\n",
       " '.\\\\data\\\\L1_PCP_E_clipped\\\\L1_PCP_090813.tif',\n",
       " '.\\\\data\\\\L1_PCP_E_clipped\\\\L1_PCP_090814.tif',\n",
       " '.\\\\data\\\\L1_PCP_E_clipped\\\\L1_PCP_090815.tif',\n",
       " '.\\\\data\\\\L1_PCP_E_clipped\\\\L1_PCP_090816.tif',\n",
       " '.\\\\data\\\\L1_PCP_E_clipped\\\\L1_PCP_090817.tif',\n",
       " '.\\\\data\\\\L1_PCP_E_clipped\\\\L1_PCP_090818.tif',\n",
       " '.\\\\data\\\\L1_PCP_E_clipped\\\\L1_PCP_090819.tif',\n",
       " '.\\\\data\\\\L1_PCP_E_clipped\\\\L1_PCP_090820.tif',\n",
       " '.\\\\data\\\\L1_PCP_E_clipped\\\\L1_PCP_090821.tif',\n",
       " '.\\\\data\\\\L1_PCP_E_clipped\\\\L1_PCP_090822.tif',\n",
       " '.\\\\data\\\\L1_PCP_E_clipped\\\\L1_PCP_090823.tif',\n",
       " '.\\\\data\\\\L1_PCP_E_clipped\\\\L1_PCP_090824.tif',\n",
       " '.\\\\data\\\\L1_PCP_E_clipped\\\\L1_PCP_090825.tif',\n",
       " '.\\\\data\\\\L1_PCP_E_clipped\\\\L1_PCP_090826.tif',\n",
       " '.\\\\data\\\\L1_PCP_E_clipped\\\\L1_PCP_090827.tif',\n",
       " '.\\\\data\\\\L1_PCP_E_clipped\\\\L1_PCP_090828.tif',\n",
       " '.\\\\data\\\\L1_PCP_E_clipped\\\\L1_PCP_090829.tif',\n",
       " '.\\\\data\\\\L1_PCP_E_clipped\\\\L1_PCP_090830.tif',\n",
       " '.\\\\data\\\\L1_PCP_E_clipped\\\\L1_PCP_090831.tif',\n",
       " '.\\\\data\\\\L1_PCP_E_clipped\\\\L1_PCP_090901.tif',\n",
       " '.\\\\data\\\\L1_PCP_E_clipped\\\\L1_PCP_090902.tif',\n",
       " '.\\\\data\\\\L1_PCP_E_clipped\\\\L1_PCP_090903.tif',\n",
       " '.\\\\data\\\\L1_PCP_E_clipped\\\\L1_PCP_090904.tif',\n",
       " '.\\\\data\\\\L1_PCP_E_clipped\\\\L1_PCP_090905.tif',\n",
       " '.\\\\data\\\\L1_PCP_E_clipped\\\\L1_PCP_090906.tif',\n",
       " '.\\\\data\\\\L1_PCP_E_clipped\\\\L1_PCP_090907.tif',\n",
       " '.\\\\data\\\\L1_PCP_E_clipped\\\\L1_PCP_090908.tif',\n",
       " '.\\\\data\\\\L1_PCP_E_clipped\\\\L1_PCP_090909.tif',\n",
       " '.\\\\data\\\\L1_PCP_E_clipped\\\\L1_PCP_090910.tif',\n",
       " '.\\\\data\\\\L1_PCP_E_clipped\\\\L1_PCP_090911.tif',\n",
       " '.\\\\data\\\\L1_PCP_E_clipped\\\\L1_PCP_090912.tif',\n",
       " '.\\\\data\\\\L1_PCP_E_clipped\\\\L1_PCP_090913.tif',\n",
       " '.\\\\data\\\\L1_PCP_E_clipped\\\\L1_PCP_090914.tif',\n",
       " '.\\\\data\\\\L1_PCP_E_clipped\\\\L1_PCP_090915.tif',\n",
       " '.\\\\data\\\\L1_PCP_E_clipped\\\\L1_PCP_090916.tif',\n",
       " '.\\\\data\\\\L1_PCP_E_clipped\\\\L1_PCP_090917.tif',\n",
       " '.\\\\data\\\\L1_PCP_E_clipped\\\\L1_PCP_090918.tif',\n",
       " '.\\\\data\\\\L1_PCP_E_clipped\\\\L1_PCP_090919.tif',\n",
       " '.\\\\data\\\\L1_PCP_E_clipped\\\\L1_PCP_090920.tif',\n",
       " '.\\\\data\\\\L1_PCP_E_clipped\\\\L1_PCP_090921.tif',\n",
       " '.\\\\data\\\\L1_PCP_E_clipped\\\\L1_PCP_090922.tif',\n",
       " '.\\\\data\\\\L1_PCP_E_clipped\\\\L1_PCP_090923.tif',\n",
       " '.\\\\data\\\\L1_PCP_E_clipped\\\\L1_PCP_090924.tif',\n",
       " '.\\\\data\\\\L1_PCP_E_clipped\\\\L1_PCP_090925.tif',\n",
       " '.\\\\data\\\\L1_PCP_E_clipped\\\\L1_PCP_090926.tif',\n",
       " '.\\\\data\\\\L1_PCP_E_clipped\\\\L1_PCP_090927.tif',\n",
       " '.\\\\data\\\\L1_PCP_E_clipped\\\\L1_PCP_090928.tif',\n",
       " '.\\\\data\\\\L1_PCP_E_clipped\\\\L1_PCP_090929.tif',\n",
       " '.\\\\data\\\\L1_PCP_E_clipped\\\\L1_PCP_090930.tif',\n",
       " '.\\\\data\\\\L1_PCP_E_clipped\\\\L1_PCP_091001.tif',\n",
       " '.\\\\data\\\\L1_PCP_E_clipped\\\\L1_PCP_091002.tif',\n",
       " '.\\\\data\\\\L1_PCP_E_clipped\\\\L1_PCP_091003.tif',\n",
       " '.\\\\data\\\\L1_PCP_E_clipped\\\\L1_PCP_091004.tif',\n",
       " '.\\\\data\\\\L1_PCP_E_clipped\\\\L1_PCP_091005.tif',\n",
       " '.\\\\data\\\\L1_PCP_E_clipped\\\\L1_PCP_091006.tif',\n",
       " '.\\\\data\\\\L1_PCP_E_clipped\\\\L1_PCP_091007.tif',\n",
       " '.\\\\data\\\\L1_PCP_E_clipped\\\\L1_PCP_091008.tif',\n",
       " '.\\\\data\\\\L1_PCP_E_clipped\\\\L1_PCP_091009.tif',\n",
       " '.\\\\data\\\\L1_PCP_E_clipped\\\\L1_PCP_091010.tif',\n",
       " '.\\\\data\\\\L1_PCP_E_clipped\\\\L1_PCP_091011.tif',\n",
       " '.\\\\data\\\\L1_PCP_E_clipped\\\\L1_PCP_091012.tif',\n",
       " '.\\\\data\\\\L1_PCP_E_clipped\\\\L1_PCP_091013.tif',\n",
       " '.\\\\data\\\\L1_PCP_E_clipped\\\\L1_PCP_091014.tif',\n",
       " '.\\\\data\\\\L1_PCP_E_clipped\\\\L1_PCP_091015.tif',\n",
       " '.\\\\data\\\\L1_PCP_E_clipped\\\\L1_PCP_091016.tif',\n",
       " '.\\\\data\\\\L1_PCP_E_clipped\\\\L1_PCP_091017.tif',\n",
       " '.\\\\data\\\\L1_PCP_E_clipped\\\\L1_PCP_091018.tif',\n",
       " '.\\\\data\\\\L1_PCP_E_clipped\\\\L1_PCP_091019.tif',\n",
       " '.\\\\data\\\\L1_PCP_E_clipped\\\\L1_PCP_091020.tif',\n",
       " '.\\\\data\\\\L1_PCP_E_clipped\\\\L1_PCP_091021.tif',\n",
       " '.\\\\data\\\\L1_PCP_E_clipped\\\\L1_PCP_091022.tif',\n",
       " '.\\\\data\\\\L1_PCP_E_clipped\\\\L1_PCP_091023.tif',\n",
       " '.\\\\data\\\\L1_PCP_E_clipped\\\\L1_PCP_091024.tif',\n",
       " '.\\\\data\\\\L1_PCP_E_clipped\\\\L1_PCP_091025.tif',\n",
       " '.\\\\data\\\\L1_PCP_E_clipped\\\\L1_PCP_091026.tif',\n",
       " '.\\\\data\\\\L1_PCP_E_clipped\\\\L1_PCP_091027.tif',\n",
       " '.\\\\data\\\\L1_PCP_E_clipped\\\\L1_PCP_091028.tif',\n",
       " '.\\\\data\\\\L1_PCP_E_clipped\\\\L1_PCP_091029.tif',\n",
       " '.\\\\data\\\\L1_PCP_E_clipped\\\\L1_PCP_091030.tif',\n",
       " '.\\\\data\\\\L1_PCP_E_clipped\\\\L1_PCP_091031.tif',\n",
       " '.\\\\data\\\\L1_PCP_E_clipped\\\\L1_PCP_091101.tif',\n",
       " '.\\\\data\\\\L1_PCP_E_clipped\\\\L1_PCP_091102.tif',\n",
       " '.\\\\data\\\\L1_PCP_E_clipped\\\\L1_PCP_091103.tif',\n",
       " '.\\\\data\\\\L1_PCP_E_clipped\\\\L1_PCP_091104.tif',\n",
       " '.\\\\data\\\\L1_PCP_E_clipped\\\\L1_PCP_091105.tif',\n",
       " '.\\\\data\\\\L1_PCP_E_clipped\\\\L1_PCP_091106.tif',\n",
       " '.\\\\data\\\\L1_PCP_E_clipped\\\\L1_PCP_091107.tif',\n",
       " '.\\\\data\\\\L1_PCP_E_clipped\\\\L1_PCP_091108.tif',\n",
       " '.\\\\data\\\\L1_PCP_E_clipped\\\\L1_PCP_091109.tif',\n",
       " '.\\\\data\\\\L1_PCP_E_clipped\\\\L1_PCP_091110.tif',\n",
       " '.\\\\data\\\\L1_PCP_E_clipped\\\\L1_PCP_091111.tif',\n",
       " '.\\\\data\\\\L1_PCP_E_clipped\\\\L1_PCP_091112.tif',\n",
       " '.\\\\data\\\\L1_PCP_E_clipped\\\\L1_PCP_091113.tif',\n",
       " '.\\\\data\\\\L1_PCP_E_clipped\\\\L1_PCP_091114.tif',\n",
       " '.\\\\data\\\\L1_PCP_E_clipped\\\\L1_PCP_091115.tif',\n",
       " '.\\\\data\\\\L1_PCP_E_clipped\\\\L1_PCP_091116.tif',\n",
       " '.\\\\data\\\\L1_PCP_E_clipped\\\\L1_PCP_091117.tif',\n",
       " '.\\\\data\\\\L1_PCP_E_clipped\\\\L1_PCP_091118.tif',\n",
       " '.\\\\data\\\\L1_PCP_E_clipped\\\\L1_PCP_091119.tif',\n",
       " '.\\\\data\\\\L1_PCP_E_clipped\\\\L1_PCP_091120.tif',\n",
       " '.\\\\data\\\\L1_PCP_E_clipped\\\\L1_PCP_091121.tif',\n",
       " '.\\\\data\\\\L1_PCP_E_clipped\\\\L1_PCP_091122.tif',\n",
       " '.\\\\data\\\\L1_PCP_E_clipped\\\\L1_PCP_091123.tif',\n",
       " '.\\\\data\\\\L1_PCP_E_clipped\\\\L1_PCP_091124.tif',\n",
       " '.\\\\data\\\\L1_PCP_E_clipped\\\\L1_PCP_091125.tif',\n",
       " '.\\\\data\\\\L1_PCP_E_clipped\\\\L1_PCP_091126.tif',\n",
       " '.\\\\data\\\\L1_PCP_E_clipped\\\\L1_PCP_091127.tif',\n",
       " '.\\\\data\\\\L1_PCP_E_clipped\\\\L1_PCP_091128.tif',\n",
       " '.\\\\data\\\\L1_PCP_E_clipped\\\\L1_PCP_091129.tif',\n",
       " '.\\\\data\\\\L1_PCP_E_clipped\\\\L1_PCP_091130.tif',\n",
       " '.\\\\data\\\\L1_PCP_E_clipped\\\\L1_PCP_091201.tif',\n",
       " '.\\\\data\\\\L1_PCP_E_clipped\\\\L1_PCP_091202.tif',\n",
       " '.\\\\data\\\\L1_PCP_E_clipped\\\\L1_PCP_091203.tif',\n",
       " '.\\\\data\\\\L1_PCP_E_clipped\\\\L1_PCP_091204.tif',\n",
       " '.\\\\data\\\\L1_PCP_E_clipped\\\\L1_PCP_091205.tif',\n",
       " '.\\\\data\\\\L1_PCP_E_clipped\\\\L1_PCP_091206.tif',\n",
       " '.\\\\data\\\\L1_PCP_E_clipped\\\\L1_PCP_091207.tif',\n",
       " '.\\\\data\\\\L1_PCP_E_clipped\\\\L1_PCP_091208.tif',\n",
       " '.\\\\data\\\\L1_PCP_E_clipped\\\\L1_PCP_091209.tif',\n",
       " '.\\\\data\\\\L1_PCP_E_clipped\\\\L1_PCP_091210.tif',\n",
       " '.\\\\data\\\\L1_PCP_E_clipped\\\\L1_PCP_091211.tif',\n",
       " '.\\\\data\\\\L1_PCP_E_clipped\\\\L1_PCP_091212.tif',\n",
       " '.\\\\data\\\\L1_PCP_E_clipped\\\\L1_PCP_091213.tif',\n",
       " '.\\\\data\\\\L1_PCP_E_clipped\\\\L1_PCP_091214.tif',\n",
       " '.\\\\data\\\\L1_PCP_E_clipped\\\\L1_PCP_091215.tif',\n",
       " '.\\\\data\\\\L1_PCP_E_clipped\\\\L1_PCP_091216.tif',\n",
       " '.\\\\data\\\\L1_PCP_E_clipped\\\\L1_PCP_091217.tif',\n",
       " '.\\\\data\\\\L1_PCP_E_clipped\\\\L1_PCP_091218.tif',\n",
       " '.\\\\data\\\\L1_PCP_E_clipped\\\\L1_PCP_091219.tif',\n",
       " '.\\\\data\\\\L1_PCP_E_clipped\\\\L1_PCP_091220.tif',\n",
       " '.\\\\data\\\\L1_PCP_E_clipped\\\\L1_PCP_091221.tif',\n",
       " '.\\\\data\\\\L1_PCP_E_clipped\\\\L1_PCP_091222.tif',\n",
       " '.\\\\data\\\\L1_PCP_E_clipped\\\\L1_PCP_091223.tif',\n",
       " '.\\\\data\\\\L1_PCP_E_clipped\\\\L1_PCP_091224.tif',\n",
       " '.\\\\data\\\\L1_PCP_E_clipped\\\\L1_PCP_091225.tif',\n",
       " '.\\\\data\\\\L1_PCP_E_clipped\\\\L1_PCP_091226.tif',\n",
       " '.\\\\data\\\\L1_PCP_E_clipped\\\\L1_PCP_091227.tif',\n",
       " '.\\\\data\\\\L1_PCP_E_clipped\\\\L1_PCP_091228.tif',\n",
       " '.\\\\data\\\\L1_PCP_E_clipped\\\\L1_PCP_091229.tif',\n",
       " '.\\\\data\\\\L1_PCP_E_clipped\\\\L1_PCP_091230.tif',\n",
       " '.\\\\data\\\\L1_PCP_E_clipped\\\\L1_PCP_091231.tif']"
      ]
     },
     "execution_count": 53,
     "metadata": {},
     "output_type": "execute_result"
    }
   ],
   "source": [
    "input_folder=r\".\\data\\L1_PCP_E_warped\"\n",
    "input_fhs=sorted(glob.glob(os.path.join(input_folder,'*.tif')))\n",
    "output_folder=r'.\\data\\L1_PCP_E_clipped'\n",
    "CliptoShp(input_fhs, output_folder,shp_fh)"
   ]
  }
 ],
 "metadata": {
  "kernelspec": {
   "display_name": "Python 3",
   "language": "python",
   "name": "python3"
  },
  "language_info": {
   "codemirror_mode": {
    "name": "ipython",
    "version": 3
   },
   "file_extension": ".py",
   "mimetype": "text/x-python",
   "name": "python",
   "nbconvert_exporter": "python",
   "pygments_lexer": "ipython3",
   "version": "3.8.3"
  }
 },
 "nbformat": 4,
 "nbformat_minor": 2
}
