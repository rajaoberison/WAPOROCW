{
 "cells": [
  {
   "cell_type": "markdown",
   "metadata": {},
   "source": [
    "# Télécharger en bloc des données de WaPOR\n",
    "\n",
    "Dans ce notebook, nous utiliserons un module local de Python pour automatiser les étapes de lecture des métadonnées, de requête d’url, de téléchargement d’ensemble de données raster, de pré-traitement d’ensemble de données raster en utilisant les informations de la métadonnée (tel que le facteur de conversion, et l’unité).\n",
    "\n",
    "Exécuter la cellule code ci-dessous pour importer les packages et modules requis. Il vous sera demandé de fournir une clé d’API de WaPOR (voir la page [Start here](0_Start_here.ipynb) pour l’obtention de la clé d’API de WaPOR). Le module WaPOR se rappellera de votre clé et l’enregistrera dans le dossier du module. Si vous voulez utiliser une autre clé d’API, il vous faut supprimer ce fichier **'modules\\WaPOR\\wapor_api_token.pickle'**"
   ]
  },
  {
   "cell_type": "code",
   "execution_count": 1,
   "metadata": {},
   "outputs": [
    {
     "name": "stdout",
     "output_type": "stream",
     "text": [
      "Loading WaPOR catalog...\n"
     ]
    },
    {
     "data": {
      "text/html": [
       "<div>\n",
       "<style scoped>\n",
       "    .dataframe tbody tr th:only-of-type {\n",
       "        vertical-align: middle;\n",
       "    }\n",
       "\n",
       "    .dataframe tbody tr th {\n",
       "        vertical-align: top;\n",
       "    }\n",
       "\n",
       "    .dataframe thead th {\n",
       "        text-align: right;\n",
       "    }\n",
       "</style>\n",
       "<table border=\"1\" class=\"dataframe\">\n",
       "  <thead>\n",
       "    <tr style=\"text-align: right;\">\n",
       "      <th></th>\n",
       "      <th>code</th>\n",
       "      <th>caption</th>\n",
       "      <th>description</th>\n",
       "      <th>additionalInfo</th>\n",
       "      <th>tags</th>\n",
       "      <th>workspaceCode</th>\n",
       "      <th>dataType</th>\n",
       "      <th>index</th>\n",
       "      <th>operation</th>\n",
       "      <th>hidden</th>\n",
       "      <th>links</th>\n",
       "      <th>measure</th>\n",
       "      <th>dimension</th>\n",
       "    </tr>\n",
       "  </thead>\n",
       "  <tbody>\n",
       "    <tr>\n",
       "      <th>0</th>\n",
       "      <td>L1_GBWP_A</td>\n",
       "      <td>Gross Biomass Water Productivity</td>\n",
       "      <td>The annual Gross Biomass Water Productivity ex...</td>\n",
       "      <td>{'format': 'Raster Dataset', 'unit': 'kg/m³ is...</td>\n",
       "      <td>[{'name': 'L1', 'index': 1, 'context': 'LEVELS...</td>\n",
       "      <td>WAPOR_2</td>\n",
       "      <td>RASTER</td>\n",
       "      <td>101</td>\n",
       "      <td>{'pixelTimeSeries': True, 'areaStatsTimeSeries...</td>\n",
       "      <td>False</td>\n",
       "      <td>[{'rel': 'self', 'href': 'https://io.apps.fao....</td>\n",
       "      <td>{'code': 'WPR', 'caption': 'Water Productivity...</td>\n",
       "      <td>[{'code': 'YEAR', 'caption': 'Year', 'descript...</td>\n",
       "    </tr>\n",
       "    <tr>\n",
       "      <th>1</th>\n",
       "      <td>L1_NBWP_A</td>\n",
       "      <td>Net Biomass Water Productivity</td>\n",
       "      <td>The annual Net Biomass Water Productivity expr...</td>\n",
       "      <td>{'format': 'Raster Dataset', 'unit': 'kg/m³ is...</td>\n",
       "      <td>[{'name': 'L1', 'index': 2, 'context': 'LEVELS...</td>\n",
       "      <td>WAPOR_2</td>\n",
       "      <td>RASTER</td>\n",
       "      <td>102</td>\n",
       "      <td>{'pixelTimeSeries': True, 'areaStatsTimeSeries...</td>\n",
       "      <td>False</td>\n",
       "      <td>[{'rel': 'self', 'href': 'https://io.apps.fao....</td>\n",
       "      <td>{'code': 'WPR', 'caption': 'Water Productivity...</td>\n",
       "      <td>[{'code': 'YEAR', 'caption': 'Year', 'descript...</td>\n",
       "    </tr>\n",
       "    <tr>\n",
       "      <th>2</th>\n",
       "      <td>L1_AETI_A</td>\n",
       "      <td>Actual EvapoTranspiration and Interception (An...</td>\n",
       "      <td>The actual EvapoTranspiration and Interception...</td>\n",
       "      <td>{'format': 'Raster Dataset', 'unit': 'mm', 'da...</td>\n",
       "      <td>[{'name': 'L1', 'index': 3, 'context': 'LEVELS...</td>\n",
       "      <td>WAPOR_2</td>\n",
       "      <td>RASTER</td>\n",
       "      <td>103</td>\n",
       "      <td>{'pixelTimeSeries': True, 'areaStatsTimeSeries...</td>\n",
       "      <td>False</td>\n",
       "      <td>[{'rel': 'self', 'href': 'https://io.apps.fao....</td>\n",
       "      <td>{'code': 'WATER_MM', 'caption': 'Amount of Wat...</td>\n",
       "      <td>[{'code': 'YEAR', 'caption': 'Year', 'descript...</td>\n",
       "    </tr>\n",
       "    <tr>\n",
       "      <th>3</th>\n",
       "      <td>L1_AETI_M</td>\n",
       "      <td>Actual EvapoTranspiration and Interception (Mo...</td>\n",
       "      <td>The actual EvapoTranspiration and Interception...</td>\n",
       "      <td>{'format': 'Raster Dataset', 'unit': 'mm', 'da...</td>\n",
       "      <td>[{'name': 'L1', 'index': 4, 'context': 'LEVELS...</td>\n",
       "      <td>WAPOR_2</td>\n",
       "      <td>RASTER</td>\n",
       "      <td>104</td>\n",
       "      <td>{'pixelTimeSeries': True, 'areaStatsTimeSeries...</td>\n",
       "      <td>False</td>\n",
       "      <td>[{'rel': 'self', 'href': 'https://io.apps.fao....</td>\n",
       "      <td>{'code': 'WATER_MM', 'caption': 'Amount of Wat...</td>\n",
       "      <td>[{'code': 'MONTH', 'caption': 'Month', 'worksp...</td>\n",
       "    </tr>\n",
       "    <tr>\n",
       "      <th>4</th>\n",
       "      <td>L1_AETI_D</td>\n",
       "      <td>Actual EvapoTranspiration and Interception (De...</td>\n",
       "      <td>The actual EvapoTranspiration and Interception...</td>\n",
       "      <td>{'format': 'Raster Dataset', 'unit': 'mm', 'da...</td>\n",
       "      <td>[{'name': 'L1', 'index': 5, 'context': 'LEVELS...</td>\n",
       "      <td>WAPOR_2</td>\n",
       "      <td>RASTER</td>\n",
       "      <td>105</td>\n",
       "      <td>{'pixelTimeSeries': True, 'areaStatsTimeSeries...</td>\n",
       "      <td>False</td>\n",
       "      <td>[{'rel': 'self', 'href': 'https://io.apps.fao....</td>\n",
       "      <td>{'code': 'WATER_MM', 'caption': 'Amount of Wat...</td>\n",
       "      <td>[{'code': 'DEKAD', 'caption': 'Dekad (10-Days ...</td>\n",
       "    </tr>\n",
       "    <tr>\n",
       "      <th>...</th>\n",
       "      <td>...</td>\n",
       "      <td>...</td>\n",
       "      <td>...</td>\n",
       "      <td>...</td>\n",
       "      <td>...</td>\n",
       "      <td>...</td>\n",
       "      <td>...</td>\n",
       "      <td>...</td>\n",
       "      <td>...</td>\n",
       "      <td>...</td>\n",
       "      <td>...</td>\n",
       "      <td>...</td>\n",
       "      <td>...</td>\n",
       "    </tr>\n",
       "    <tr>\n",
       "      <th>191</th>\n",
       "      <td>L2_BAS_PHE_S</td>\n",
       "      <td>Phenology (Seasonal, clipped by basin)</td>\n",
       "      <td>This is a system dataset, used to let the down...</td>\n",
       "      <td>NaN</td>\n",
       "      <td>NaN</td>\n",
       "      <td>WAPOR_2</td>\n",
       "      <td>RASTER</td>\n",
       "      <td>4151</td>\n",
       "      <td>{'pixelTimeSeries': False, 'areaStatsTimeSerie...</td>\n",
       "      <td>True</td>\n",
       "      <td>[{'rel': 'self', 'href': 'https://io.apps.fao....</td>\n",
       "      <td>{'code': 'PHE', 'caption': 'Phenology', 'descr...</td>\n",
       "      <td>[{'code': 'YEAR', 'caption': 'Year', 'descript...</td>\n",
       "    </tr>\n",
       "    <tr>\n",
       "      <th>192</th>\n",
       "      <td>L2_BAS_QUAL_NDVI_D</td>\n",
       "      <td>Quality of Normalized Difference Vegetation In...</td>\n",
       "      <td>This is a system dataset, used to let the down...</td>\n",
       "      <td>NaN</td>\n",
       "      <td>NaN</td>\n",
       "      <td>WAPOR_2</td>\n",
       "      <td>RASTER</td>\n",
       "      <td>4161</td>\n",
       "      <td>{'pixelTimeSeries': False, 'areaStatsTimeSerie...</td>\n",
       "      <td>True</td>\n",
       "      <td>[{'rel': 'self', 'href': 'https://io.apps.fao....</td>\n",
       "      <td>{'code': 'N_DAYS', 'caption': 'Number of Days'...</td>\n",
       "      <td>[{'code': 'DEKAD', 'caption': 'Dekad (10-Days ...</td>\n",
       "    </tr>\n",
       "    <tr>\n",
       "      <th>193</th>\n",
       "      <td>L2_CTY_QUAL_NDVI_D</td>\n",
       "      <td>Quality of Normalized Difference Vegetation In...</td>\n",
       "      <td>This is a system dataset, used to let the down...</td>\n",
       "      <td>NaN</td>\n",
       "      <td>NaN</td>\n",
       "      <td>WAPOR_2</td>\n",
       "      <td>RASTER</td>\n",
       "      <td>4162</td>\n",
       "      <td>{'pixelTimeSeries': False, 'areaStatsTimeSerie...</td>\n",
       "      <td>True</td>\n",
       "      <td>[{'rel': 'self', 'href': 'https://io.apps.fao....</td>\n",
       "      <td>{'code': 'N_DAYS', 'caption': 'Number of Days'...</td>\n",
       "      <td>[{'code': 'DEKAD', 'caption': 'Dekad (10-Days ...</td>\n",
       "    </tr>\n",
       "    <tr>\n",
       "      <th>194</th>\n",
       "      <td>L2_BAS_QUAL_LST_D</td>\n",
       "      <td>Quality Land Surface Temperature (Dekadal, cli...</td>\n",
       "      <td>This is a system dataset, used to let the down...</td>\n",
       "      <td>NaN</td>\n",
       "      <td>NaN</td>\n",
       "      <td>WAPOR_2</td>\n",
       "      <td>RASTER</td>\n",
       "      <td>4171</td>\n",
       "      <td>{'pixelTimeSeries': False, 'areaStatsTimeSerie...</td>\n",
       "      <td>True</td>\n",
       "      <td>[{'rel': 'self', 'href': 'https://io.apps.fao....</td>\n",
       "      <td>{'code': 'N_DAYS', 'caption': 'Number of Days'...</td>\n",
       "      <td>[{'code': 'DEKAD', 'caption': 'Dekad (10-Days ...</td>\n",
       "    </tr>\n",
       "    <tr>\n",
       "      <th>195</th>\n",
       "      <td>L2_CTY_QUAL_LST_D</td>\n",
       "      <td>Quality Land Surface Temperature (Dekadal, cli...</td>\n",
       "      <td>This is a system dataset, used to let the down...</td>\n",
       "      <td>NaN</td>\n",
       "      <td>NaN</td>\n",
       "      <td>WAPOR_2</td>\n",
       "      <td>RASTER</td>\n",
       "      <td>4172</td>\n",
       "      <td>{'pixelTimeSeries': False, 'areaStatsTimeSerie...</td>\n",
       "      <td>True</td>\n",
       "      <td>[{'rel': 'self', 'href': 'https://io.apps.fao....</td>\n",
       "      <td>{'code': 'N_DAYS', 'caption': 'Number of Days'...</td>\n",
       "      <td>[{'code': 'DEKAD', 'caption': 'Dekad (10-Days ...</td>\n",
       "    </tr>\n",
       "  </tbody>\n",
       "</table>\n",
       "<p>196 rows × 13 columns</p>\n",
       "</div>"
      ],
      "text/plain": [
       "                   code                                            caption  \\\n",
       "0             L1_GBWP_A                   Gross Biomass Water Productivity   \n",
       "1             L1_NBWP_A                     Net Biomass Water Productivity   \n",
       "2             L1_AETI_A  Actual EvapoTranspiration and Interception (An...   \n",
       "3             L1_AETI_M  Actual EvapoTranspiration and Interception (Mo...   \n",
       "4             L1_AETI_D  Actual EvapoTranspiration and Interception (De...   \n",
       "..                  ...                                                ...   \n",
       "191        L2_BAS_PHE_S             Phenology (Seasonal, clipped by basin)   \n",
       "192  L2_BAS_QUAL_NDVI_D  Quality of Normalized Difference Vegetation In...   \n",
       "193  L2_CTY_QUAL_NDVI_D  Quality of Normalized Difference Vegetation In...   \n",
       "194   L2_BAS_QUAL_LST_D  Quality Land Surface Temperature (Dekadal, cli...   \n",
       "195   L2_CTY_QUAL_LST_D  Quality Land Surface Temperature (Dekadal, cli...   \n",
       "\n",
       "                                           description  \\\n",
       "0    The annual Gross Biomass Water Productivity ex...   \n",
       "1    The annual Net Biomass Water Productivity expr...   \n",
       "2    The actual EvapoTranspiration and Interception...   \n",
       "3    The actual EvapoTranspiration and Interception...   \n",
       "4    The actual EvapoTranspiration and Interception...   \n",
       "..                                                 ...   \n",
       "191  This is a system dataset, used to let the down...   \n",
       "192  This is a system dataset, used to let the down...   \n",
       "193  This is a system dataset, used to let the down...   \n",
       "194  This is a system dataset, used to let the down...   \n",
       "195  This is a system dataset, used to let the down...   \n",
       "\n",
       "                                        additionalInfo  \\\n",
       "0    {'format': 'Raster Dataset', 'unit': 'kg/m³ is...   \n",
       "1    {'format': 'Raster Dataset', 'unit': 'kg/m³ is...   \n",
       "2    {'format': 'Raster Dataset', 'unit': 'mm', 'da...   \n",
       "3    {'format': 'Raster Dataset', 'unit': 'mm', 'da...   \n",
       "4    {'format': 'Raster Dataset', 'unit': 'mm', 'da...   \n",
       "..                                                 ...   \n",
       "191                                                NaN   \n",
       "192                                                NaN   \n",
       "193                                                NaN   \n",
       "194                                                NaN   \n",
       "195                                                NaN   \n",
       "\n",
       "                                                  tags workspaceCode dataType  \\\n",
       "0    [{'name': 'L1', 'index': 1, 'context': 'LEVELS...       WAPOR_2   RASTER   \n",
       "1    [{'name': 'L1', 'index': 2, 'context': 'LEVELS...       WAPOR_2   RASTER   \n",
       "2    [{'name': 'L1', 'index': 3, 'context': 'LEVELS...       WAPOR_2   RASTER   \n",
       "3    [{'name': 'L1', 'index': 4, 'context': 'LEVELS...       WAPOR_2   RASTER   \n",
       "4    [{'name': 'L1', 'index': 5, 'context': 'LEVELS...       WAPOR_2   RASTER   \n",
       "..                                                 ...           ...      ...   \n",
       "191                                                NaN       WAPOR_2   RASTER   \n",
       "192                                                NaN       WAPOR_2   RASTER   \n",
       "193                                                NaN       WAPOR_2   RASTER   \n",
       "194                                                NaN       WAPOR_2   RASTER   \n",
       "195                                                NaN       WAPOR_2   RASTER   \n",
       "\n",
       "     index                                          operation  hidden  \\\n",
       "0      101  {'pixelTimeSeries': True, 'areaStatsTimeSeries...   False   \n",
       "1      102  {'pixelTimeSeries': True, 'areaStatsTimeSeries...   False   \n",
       "2      103  {'pixelTimeSeries': True, 'areaStatsTimeSeries...   False   \n",
       "3      104  {'pixelTimeSeries': True, 'areaStatsTimeSeries...   False   \n",
       "4      105  {'pixelTimeSeries': True, 'areaStatsTimeSeries...   False   \n",
       "..     ...                                                ...     ...   \n",
       "191   4151  {'pixelTimeSeries': False, 'areaStatsTimeSerie...    True   \n",
       "192   4161  {'pixelTimeSeries': False, 'areaStatsTimeSerie...    True   \n",
       "193   4162  {'pixelTimeSeries': False, 'areaStatsTimeSerie...    True   \n",
       "194   4171  {'pixelTimeSeries': False, 'areaStatsTimeSerie...    True   \n",
       "195   4172  {'pixelTimeSeries': False, 'areaStatsTimeSerie...    True   \n",
       "\n",
       "                                                 links  \\\n",
       "0    [{'rel': 'self', 'href': 'https://io.apps.fao....   \n",
       "1    [{'rel': 'self', 'href': 'https://io.apps.fao....   \n",
       "2    [{'rel': 'self', 'href': 'https://io.apps.fao....   \n",
       "3    [{'rel': 'self', 'href': 'https://io.apps.fao....   \n",
       "4    [{'rel': 'self', 'href': 'https://io.apps.fao....   \n",
       "..                                                 ...   \n",
       "191  [{'rel': 'self', 'href': 'https://io.apps.fao....   \n",
       "192  [{'rel': 'self', 'href': 'https://io.apps.fao....   \n",
       "193  [{'rel': 'self', 'href': 'https://io.apps.fao....   \n",
       "194  [{'rel': 'self', 'href': 'https://io.apps.fao....   \n",
       "195  [{'rel': 'self', 'href': 'https://io.apps.fao....   \n",
       "\n",
       "                                               measure  \\\n",
       "0    {'code': 'WPR', 'caption': 'Water Productivity...   \n",
       "1    {'code': 'WPR', 'caption': 'Water Productivity...   \n",
       "2    {'code': 'WATER_MM', 'caption': 'Amount of Wat...   \n",
       "3    {'code': 'WATER_MM', 'caption': 'Amount of Wat...   \n",
       "4    {'code': 'WATER_MM', 'caption': 'Amount of Wat...   \n",
       "..                                                 ...   \n",
       "191  {'code': 'PHE', 'caption': 'Phenology', 'descr...   \n",
       "192  {'code': 'N_DAYS', 'caption': 'Number of Days'...   \n",
       "193  {'code': 'N_DAYS', 'caption': 'Number of Days'...   \n",
       "194  {'code': 'N_DAYS', 'caption': 'Number of Days'...   \n",
       "195  {'code': 'N_DAYS', 'caption': 'Number of Days'...   \n",
       "\n",
       "                                             dimension  \n",
       "0    [{'code': 'YEAR', 'caption': 'Year', 'descript...  \n",
       "1    [{'code': 'YEAR', 'caption': 'Year', 'descript...  \n",
       "2    [{'code': 'YEAR', 'caption': 'Year', 'descript...  \n",
       "3    [{'code': 'MONTH', 'caption': 'Month', 'worksp...  \n",
       "4    [{'code': 'DEKAD', 'caption': 'Dekad (10-Days ...  \n",
       "..                                                 ...  \n",
       "191  [{'code': 'YEAR', 'caption': 'Year', 'descript...  \n",
       "192  [{'code': 'DEKAD', 'caption': 'Dekad (10-Days ...  \n",
       "193  [{'code': 'DEKAD', 'caption': 'Dekad (10-Days ...  \n",
       "194  [{'code': 'DEKAD', 'caption': 'Dekad (10-Days ...  \n",
       "195  [{'code': 'DEKAD', 'caption': 'Dekad (10-Days ...  \n",
       "\n",
       "[196 rows x 13 columns]"
      ]
     },
     "execution_count": 1,
     "metadata": {},
     "output_type": "execute_result"
    }
   ],
   "source": [
    "import os\n",
    "import glob\n",
    "import sys\n",
    "import shapefile             \n",
    "import matplotlib.pyplot as plt \n",
    "\n",
    "folder=r\"..\\..\\modules\"\n",
    "sys.path.append(folder) #ajouter un dossier avec les modules locaux aux chemins du système\n",
    "import WaPOR #importer le  module local 'WaPOR'\n",
    "WaPOR.API.version=2 #selectionner la version de WaPOR\n",
    "WaPOR.API.getCatalog()"
   ]
  },
  {
   "cell_type": "markdown",
   "metadata": {},
   "source": [
    "## Code de l’ensemble de données\n",
    "\n",
    "Le module **WaPOR** contient les fonctions *download_dekadal*, *download_monthly*, et *download_yearly* qui téléchargent en bloc les données de WaPOR à la résolution temporelle décadaire, mensuelle, et annuelle. Pour spécifier la couche de données à télécharger, ces fonctions requièrent le code de l’ensemble de données, les coordonnées des limites de l’encadré, le niveau des données, et les dates de début et fin de la période. Le code de chaque ensemble de données est disponible dans le tableau ci-dessous :  \n",
    "\n",
    "| code        | Name          | \n",
    "| :---------: |:-------------:| \n",
    "| LCC | Classification de l’occupation des terres      | \n",
    "| PCP      | Précipitation      | \n",
    "| RET      | Evapotranspiration de référence      | \n",
    "| NPP      | Production primaire nette |\n",
    "| AETI      | Evapotranspiration réelle et Interception |   \n",
    "| E | Evaporation      |  \n",
    "| I | Interception      | \n",
    "| T | Transpiration      | \n",
    "\n",
    "Utiliser le code des données sélectionnées plutôt que **RET** pour la valeur du paramètre **data** dans le code ci-dessous."
   ]
  },
  {
   "cell_type": "markdown",
   "metadata": {},
   "source": [
    "## Exemple de fonctions du module WaPOR\n",
    "\n",
    "L’exemple de la cellule code ci-dessous montre comment le module *WaPOR* a été utilisé pour télécharger en bloc des données de WaPOR : l’Evapotranspiration de référence décadaire, mensuelle, et annuelle d’une étendue. L’étendue est définie par les limites de l’encadré du shapefile du bassin de Awash. Les données raster seront collectées et prétraitées à la correcte unité (respectivement, mm/décade, mm/mois, ou mm/an) et enregistrées dans [le dossier de sortie](data)"
   ]
  },
  {
   "cell_type": "markdown",
   "metadata": {},
   "source": [
    "### Définir l’étendu de téléchargement et le dossier de sortie\n",
    "\n",
    "Changer les valeurs de xmin, ymin, xmax, ymax à l’étendue de téléchargement. Si nécessaire, changer le chemin de *output_dir* au dossier où vous voulez enregistrer les données."
   ]
  },
  {
   "cell_type": "code",
   "execution_count": 2,
   "metadata": {},
   "outputs": [],
   "source": [
    "#definir l’étendue de téléchargement à partir d’un shapefile:\n",
    "shape_fh=r\".\\data\\Awash_shapefile.shp\"\n",
    "shape=shapefile.Reader(shape_fh)\n",
    "xmin,ymin,xmax,ymax=shape.bbox\n",
    "\n",
    "#définir l’étendue de téléchargement par des coordonnées:\n",
    "# xmin,ymin,xmax,ymax=(32.65692516077674,-25.16412729789142,32.90420244933813,-25.01450956754679)\n",
    "\n",
    "output_dir=r'.\\data' #dossier pour enregistrer les données"
   ]
  },
  {
   "cell_type": "markdown",
   "metadata": {},
   "source": [
    "### Télécharger des données journalières\n",
    "\n",
    "Noter que les données journalières sont uniquement disponibles pour l’Evaporation de référence et la Précipitation au niveau 1"
   ]
  },
  {
   "cell_type": "code",
   "execution_count": 3,
   "metadata": {},
   "outputs": [
    {
     "name": "stdout",
     "output_type": "stream",
     "text": [
      "\n",
      "Download WaPOR Level 1 dekadal RET data for the period 2009-01-01 till 2009-01-31\n",
      "Progress: |██████████████████████████████████████████████████| 100.0% Complete\n"
     ]
    },
    {
     "data": {
      "text/plain": [
       "'.\\\\data\\\\WAPOR.v2_daily_L1_RET_E'"
      ]
     },
     "execution_count": 3,
     "metadata": {},
     "output_type": "execute_result"
    }
   ],
   "source": [
    "WaPOR.download_daily(output_dir, \n",
    "                       data='RET',\n",
    "                       Startdate='2009-01-01', \n",
    "                       Enddate='2009-01-31',\n",
    "                       latlim=[ymin-0.5, ymax+0.5], \n",
    "                       lonlim=[xmin-0.5, xmax+0.5],\n",
    "                       level=1, \n",
    "                       )"
   ]
  },
  {
   "cell_type": "markdown",
   "metadata": {},
   "source": [
    "### Télécharger des données décadaires"
   ]
  },
  {
   "cell_type": "code",
   "execution_count": 4,
   "metadata": {},
   "outputs": [
    {
     "name": "stdout",
     "output_type": "stream",
     "text": [
      "\n",
      "Download WaPOR Level 1 dekadal RET data for the period 2009-01-01 till 2009-12-31\n",
      "Progress: |██████████████████████████████████████████████████| 100.0% Complete\n"
     ]
    },
    {
     "data": {
      "text/plain": [
       "'.\\\\data\\\\WAPOR.v2_dekadal_L1_RET_D'"
      ]
     },
     "execution_count": 4,
     "metadata": {},
     "output_type": "execute_result"
    }
   ],
   "source": [
    "WaPOR.download_dekadal(output_dir, \n",
    "                       data='RET',\n",
    "                       Startdate='2009-01-01', \n",
    "                       Enddate='2009-12-31',\n",
    "                       latlim=[ymin-0.5, ymax+0.5], \n",
    "                       lonlim=[xmin-0.5, xmax+0.5],\n",
    "                       level=1, \n",
    "                       )"
   ]
  },
  {
   "cell_type": "markdown",
   "metadata": {},
   "source": [
    "### Télécharger des données mensuelles"
   ]
  },
  {
   "cell_type": "code",
   "execution_count": 5,
   "metadata": {},
   "outputs": [
    {
     "name": "stdout",
     "output_type": "stream",
     "text": [
      "\n",
      "Download WaPOR Level 1 monthly RET data for the period 2009-01-01 till 2009-12-31\n",
      "Progress: |██████████████████████████████████████████████████| 100.0% Complete\n"
     ]
    },
    {
     "data": {
      "text/plain": [
       "'.\\\\data\\\\WAPOR.v2_monthly_L1_RET_M'"
      ]
     },
     "execution_count": 5,
     "metadata": {},
     "output_type": "execute_result"
    }
   ],
   "source": [
    "WaPOR.download_monthly(output_dir, \n",
    "                       data='RET',\n",
    "                       Startdate='2009-01-01', \n",
    "                       Enddate='2009-12-31', \n",
    "                       latlim=[ymin-0.5, ymax+0.5], \n",
    "                       lonlim=[xmin-0.5, xmax+0.5],\n",
    "                       level=1, \n",
    "                       )"
   ]
  },
  {
   "cell_type": "markdown",
   "metadata": {},
   "source": [
    "### Télécharger des données annuelles"
   ]
  },
  {
   "cell_type": "code",
   "execution_count": 6,
   "metadata": {},
   "outputs": [
    {
     "name": "stdout",
     "output_type": "stream",
     "text": [
      "\n",
      "Download WaPOR Level 1 yearly RET data for the period 2009-01-01 till 2009-12-31\n",
      "Progress: |██████████████████████████████████████████████████| 100.0% Complete\n"
     ]
    },
    {
     "data": {
      "text/plain": [
       "'.\\\\data\\\\WAPOR.v2_yearly_L1_RET_A'"
      ]
     },
     "execution_count": 6,
     "metadata": {},
     "output_type": "execute_result"
    }
   ],
   "source": [
    "WaPOR.download_yearly(output_dir, \n",
    "                       data='RET',\n",
    "                       Startdate='2009-01-01', \n",
    "                       Enddate='2009-12-31',\n",
    "                       latlim=[ymin-0.5, ymax+0.5], \n",
    "                       lonlim=[xmin-0.5, xmax+0.5],\n",
    "                       level=1, \n",
    "                       )"
   ]
  },
  {
   "cell_type": "markdown",
   "metadata": {},
   "source": [
    "# Exercice\n",
    "\n",
    "Télécharger la Précipitation, l’Evapotranspiration réelle et l’Interception mensuelles et la classification de l’utilisation des terres annuelle de 2009 à 2010 pour la zone délimitée par le shapefile \".\\data\\Awash_shapefile.shp\"\n",
    "\n",
    "Utiliser les fonctions du module **WaPOR** suivant l’exemple donné.\n"
   ]
  },
  {
   "cell_type": "code",
   "execution_count": 7,
   "metadata": {},
   "outputs": [
    {
     "data": {
      "text/plain": [
       "'\\nÉcrivez votre code ici\\n'"
      ]
     },
     "execution_count": 7,
     "metadata": {},
     "output_type": "execute_result"
    }
   ],
   "source": [
    "'''\n",
    "Écrivez votre code ici\n",
    "'''"
   ]
  }
 ],
 "metadata": {
  "kernelspec": {
   "display_name": "Python 3",
   "language": "python",
   "name": "python3"
  },
  "language_info": {
   "codemirror_mode": {
    "name": "ipython",
    "version": 3
   },
   "file_extension": ".py",
   "mimetype": "text/x-python",
   "name": "python",
   "nbconvert_exporter": "python",
   "pygments_lexer": "ipython3",
   "version": "3.7.9"
  }
 },
 "nbformat": 4,
 "nbformat_minor": 2
}
